{
 "cells": [
  {
   "cell_type": "code",
   "execution_count": 1,
   "metadata": {},
   "outputs": [
    {
     "name": "stderr",
     "output_type": "stream",
     "text": [
      "c:\\Users\\RUSHI\\anaconda3\\envs\\tf\\lib\\site-packages\\tqdm\\auto.py:22: TqdmWarning: IProgress not found. Please update jupyter and ipywidgets. See https://ipywidgets.readthedocs.io/en/stable/user_install.html\n",
      "  from .autonotebook import tqdm as notebook_tqdm\n"
     ]
    }
   ],
   "source": [
    "import simulate\n",
    "import baseline\n",
    "import dataload\n",
    "import numpy as np\n",
    "import pandas as pd\n",
    "from sklearn.preprocessing import StandardScaler\n",
    "#import pypots\n",
    "from pypots.data import load_specific_dataset, mcar, masked_fill\n",
    "from pypots.imputation import SAITS, BRITS\n",
    "from pypots.utils.metrics import cal_mae, cal_rmse, cal_mre"
   ]
  },
  {
   "cell_type": "markdown",
   "metadata": {},
   "source": [
    "# PAMAPS2"
   ]
  },
  {
   "cell_type": "code",
   "execution_count": 2,
   "metadata": {},
   "outputs": [],
   "source": [
    "dict = dataload.pamaps2(window_size=40, drop_nan=True)\n",
    "X = dict[\"X\"]\n",
    "y = dict[\"y\"]"
   ]
  },
  {
   "cell_type": "code",
   "execution_count": 3,
   "metadata": {},
   "outputs": [],
   "source": [
    "# MCAR\n",
    "dict_MCAR = simulate.simulate_nan(X, 0.1, \"MCAR\")\n",
    "X_intact_MCAR = dict_MCAR['X_init']\n",
    "X_missing_MCAR = dict_MCAR['X_incomp']\n",
    "X_mask_MCAR = dict_MCAR['mask']\n",
    "\n",
    "# MAR - logistic\n",
    "dict_MAR = simulate.simulate_nan(X, 0.1, \"MAR\")\n",
    "X_intact_MAR = dict_MAR['X_init']\n",
    "X_missing_MAR = dict_MAR['X_incomp']\n",
    "X_mask_MAR = dict_MAR['mask']\n",
    "\n",
    "# MNAR - logistic\n",
    "dict_MAR = simulate.simulate_nan(X, 0.1, \"MNAR\", opt=\"logistic\")\n",
    "X_intact_MNAR = dict_MAR['X_init']\n",
    "X_missing_MNAR = dict_MAR['X_incomp']\n",
    "X_mask_MNAR = dict_MAR['mask']\n",
    "\n",
    "X_intact = [X_intact_MCAR, X_intact_MAR, X_intact_MNAR]\n",
    "X_missing = [X_missing_MCAR, X_missing_MAR, X_missing_MNAR]\n",
    "X_mask = [X_mask_MCAR, X_mask_MAR, X_mask_MNAR]\n",
    "missingness = [\"MCAR\", \"MAR\", \"MNAR\"]"
   ]
  },
  {
   "cell_type": "code",
   "execution_count": null,
   "metadata": {},
   "outputs": [],
   "source": [
    "result_pamaps2_imputation = []"
   ]
  },
  {
   "cell_type": "code",
   "execution_count": null,
   "metadata": {},
   "outputs": [],
   "source": [
    "# Zero-filling imputation\n",
    "res = []\n",
    "for i in range(3):\n",
    "    X_zero_imputed = baseline.zero_filling_imputation(X_missing[i])\n",
    "    res.append(cal_mae(X_intact[i], X_zero_imputed, X_mask[i]))\n",
    "    res.append(cal_rmse(X_intact[i], X_zero_imputed, X_mask[i]))\n",
    "    res.append(cal_mre(X_intact[i], X_zero_imputed, X_mask[i]))\n",
    "\n",
    "result_pamaps2_imputation.append(res)"
   ]
  },
  {
   "cell_type": "code",
   "execution_count": null,
   "metadata": {},
   "outputs": [],
   "source": [
    "# Mean imputation\n",
    "res = []\n",
    "\n",
    "for i in range(3):\n",
    "    X_mean_imputed = baseline.mean_imputation(X_missing[i])\n",
    "    res.append(cal_mae(X_intact[i], X_mean_imputed, X_mask[i]))\n",
    "    res.append(cal_rmse(X_intact[i], X_mean_imputed, X_mask[i]))\n",
    "    res.append(cal_mre(X_intact[i], X_mean_imputed, X_mask[i]))\n",
    "\n",
    "result_pamaps2_imputation.append(res)"
   ]
  },
  {
   "cell_type": "code",
   "execution_count": null,
   "metadata": {},
   "outputs": [],
   "source": [
    "# Mean imputation\n",
    "res = []\n",
    "\n",
    "for i in range(3):\n",
    "    X_median_imputed = baseline.median_imputation(X_missing[i])\n",
    "    res.append(cal_mae(X_intact[i], X_median_imputed, X_mask[i]))\n",
    "    res.append(cal_rmse(X_intact[i], X_median_imputed, X_mask[i]))\n",
    "    res.append(cal_mre(X_intact[i], X_median_imputed, X_mask[i]))\n",
    "\n",
    "result_pamaps2_imputation.append(res)"
   ]
  },
  {
   "cell_type": "code",
   "execution_count": null,
   "metadata": {},
   "outputs": [],
   "source": [
    "# BRITS\n",
    "\n",
    "res = []\n",
    "\n",
    "for i in range(3):\n",
    "    brits = BRITS(n_steps=40, n_features=52,rnn_hidden_size=64, epochs=20)\n",
    "    brits.fit(X_missing[i])\n",
    "    imputation = brits.impute(X_missing[i])\n",
    "    res.append(cal_mae(imputation, X_intact[i], X_mask[i]))\n",
    "    res.append(cal_rmse(imputation, X_intact[i], X_mask[i]))\n",
    "    res.append(cal_mre(imputation, X_intact[i], X_mask[i]))\n",
    "\n",
    "result_pamaps2_imputation.append(res)"
   ]
  },
  {
   "cell_type": "code",
   "execution_count": null,
   "metadata": {},
   "outputs": [],
   "source": [
    "# SAITS\n",
    "\n",
    "res = []\n",
    "\n",
    "for i in range(3):\n",
    "    saits = SAITS(n_steps=40, n_features=52, n_layers=2, d_model=256, d_inner=128, n_head=4, d_k=64, d_v=64, dropout=0.1, epochs=20)\n",
    "    saits.fit(X_missing[i])\n",
    "    imputation = saits.impute(X_missing[i])\n",
    "    res.append(cal_mae(imputation, X_intact[i], X_mask[i]))\n",
    "    res.append(cal_rmse(imputation, X_intact[i], X_mask[i]))\n",
    "    res.append(cal_mre(imputation, X_intact[i], X_mask[i]))\n",
    "\n",
    "result_pamaps2_imputation.append(res)"
   ]
  },
  {
   "cell_type": "code",
   "execution_count": null,
   "metadata": {},
   "outputs": [],
   "source": [
    "errors = [\"mae\", \"rmse\", \"mre\"]\n",
    "cols = []\n",
    "\n",
    "for i in missingness:\n",
    "    for j in errors:\n",
    "        cols.append(i+\" \"+j)\n",
    "\n",
    "methods = [\"zero-filling imputation\", \"mean imputation\", \"median imputation\", \"BRITS\", \"SAITS\"]\n",
    "result_pamaps2_imputation = pd.DataFrame(result_pamaps2_imputation, columns = cols, index=methods)"
   ]
  },
  {
   "cell_type": "code",
   "execution_count": null,
   "metadata": {},
   "outputs": [],
   "source": [
    "result_pamaps2_imputation"
   ]
  }
 ],
 "metadata": {
  "interpreter": {
   "hash": "85eab4bc6c6c5de8d8c9b73424489217eb3ac6fe3bc76caf6b2eb1d4f520884f"
  },
  "kernelspec": {
   "display_name": "Python 3.9.12 ('tf')",
   "language": "python",
   "name": "python3"
  },
  "language_info": {
   "codemirror_mode": {
    "name": "ipython",
    "version": 3
   },
   "file_extension": ".py",
   "mimetype": "text/x-python",
   "name": "python",
   "nbconvert_exporter": "python",
   "pygments_lexer": "ipython3",
   "version": "3.9.12"
  },
  "orig_nbformat": 4
 },
 "nbformat": 4,
 "nbformat_minor": 2
}
