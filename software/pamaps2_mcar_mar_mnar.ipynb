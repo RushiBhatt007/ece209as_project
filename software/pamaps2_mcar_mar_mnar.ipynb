{
 "cells": [
  {
   "cell_type": "code",
   "execution_count": 1,
   "metadata": {},
   "outputs": [],
   "source": [
    "import simulate\n",
    "import baseline\n",
    "import dataload\n",
    "import numpy as np\n",
    "import pandas as pd\n",
    "from sklearn.preprocessing import StandardScaler\n",
    "#import pypots\n",
    "from pypots.data import load_specific_dataset, mcar, masked_fill\n",
    "from pypots.imputation import SAITS, BRITS\n",
    "from pypots.utils.metrics import cal_mae, cal_rmse, cal_mre"
   ]
  },
  {
   "cell_type": "markdown",
   "metadata": {},
   "source": [
    "# PAMAPS2"
   ]
  },
  {
   "cell_type": "code",
   "execution_count": 2,
   "metadata": {},
   "outputs": [],
   "source": [
    "dict = dataload.pamaps2(window_size=40, drop_nan=True)\n",
    "X = dict[\"X\"]\n",
    "y = dict[\"y\"]"
   ]
  },
  {
   "cell_type": "code",
   "execution_count": 3,
   "metadata": {},
   "outputs": [],
   "source": [
    "# MCAR\n",
    "dict_MCAR = simulate.simulate_nan(X, 0.1, \"MCAR\")\n",
    "X_intact_MCAR = dict_MCAR['X_init']\n",
    "X_missing_MCAR = dict_MCAR['X_incomp']\n",
    "X_mask_MCAR = dict_MCAR['mask']\n",
    "\n",
    "# MAR - logistic\n",
    "dict_MAR = simulate.simulate_nan(X, 0.1, \"MAR\")\n",
    "X_intact_MAR = dict_MAR['X_init']\n",
    "X_missing_MAR = dict_MAR['X_incomp']\n",
    "X_mask_MAR = dict_MAR['mask']\n",
    "\n",
    "# MNAR - logistic\n",
    "dict_MAR = simulate.simulate_nan(X, 0.1, \"MNAR\", opt=\"logistic\")\n",
    "X_intact_MNAR = dict_MAR['X_init']\n",
    "X_missing_MNAR = dict_MAR['X_incomp']\n",
    "X_mask_MNAR = dict_MAR['mask']\n",
    "\n",
    "X_intact = [X_intact_MCAR, X_intact_MAR, X_intact_MNAR]\n",
    "X_missing = [X_missing_MCAR, X_missing_MAR, X_missing_MNAR]\n",
    "X_mask = [X_mask_MCAR, X_mask_MAR, X_mask_MNAR]\n",
    "missingness = [\"MCAR\", \"MAR\", \"MNAR\"]"
   ]
  },
  {
   "cell_type": "code",
   "execution_count": 4,
   "metadata": {},
   "outputs": [],
   "source": [
    "n_steps_brits = 40\n",
    "n_features_brits = 52\n",
    "rnn_hidden_size_brits = 128 # change rnn_hidden_size_brits to smaller number (4/8/16) for faster computation on smaller models\n",
    "epochs_brits = 100 # change epochs_brits to smaller number (1 to 10) otherwise it takes upwards of 20 hours on good GPUs\n",
    "\n",
    "\n",
    "n_steps_saits = 40\n",
    "n_features_saits = 52\n",
    "n_layers_saits = 2\n",
    "d_model_saits = 512 # change d_model_saits to smaller number (32/64/128) for faster computation on smaller models\n",
    "d_inner_saits = 256 # change d_inner_saits to smaller number (16/32/64) for faster computation on smaller models\n",
    "n_head_saits = 4\n",
    "d_k_saits = 64\n",
    "d_v_saits = 64\n",
    "dropout_saits = 0.1\n",
    "epochs_saits = 200 # change epochs_saits to smaller number (1 to 10) otherwise it takes upwards of 20 hours on good GPUs"
   ]
  },
  {
   "cell_type": "code",
   "execution_count": 5,
   "metadata": {},
   "outputs": [],
   "source": [
    "result_pamaps2_imputation = []"
   ]
  },
  {
   "cell_type": "code",
   "execution_count": 6,
   "metadata": {},
   "outputs": [],
   "source": [
    "# Zero-filling imputation\n",
    "res = []\n",
    "for i in range(3):\n",
    "    X_zero_imputed = baseline.zero_filling_imputation(X_missing[i])\n",
    "    res.append(cal_mae(X_intact[i], X_zero_imputed, X_mask[i]))\n",
    "    res.append(cal_rmse(X_intact[i], X_zero_imputed, X_mask[i]))\n",
    "    res.append(cal_mre(X_intact[i], X_zero_imputed, X_mask[i]))\n",
    "\n",
    "result_pamaps2_imputation.append(res)"
   ]
  },
  {
   "cell_type": "code",
   "execution_count": 7,
   "metadata": {},
   "outputs": [],
   "source": [
    "# Mean imputation\n",
    "res = []\n",
    "\n",
    "for i in range(3):\n",
    "    X_mean_imputed = baseline.mean_imputation(X_missing[i])\n",
    "    res.append(cal_mae(X_intact[i], X_mean_imputed, X_mask[i]))\n",
    "    res.append(cal_rmse(X_intact[i], X_mean_imputed, X_mask[i]))\n",
    "    res.append(cal_mre(X_intact[i], X_mean_imputed, X_mask[i]))\n",
    "\n",
    "result_pamaps2_imputation.append(res)"
   ]
  },
  {
   "cell_type": "code",
   "execution_count": 8,
   "metadata": {},
   "outputs": [],
   "source": [
    "# Median imputation\n",
    "res = []\n",
    "\n",
    "for i in range(3):\n",
    "    X_median_imputed = baseline.median_imputation(X_missing[i])\n",
    "    res.append(cal_mae(X_intact[i], X_median_imputed, X_mask[i]))\n",
    "    res.append(cal_rmse(X_intact[i], X_median_imputed, X_mask[i]))\n",
    "    res.append(cal_mre(X_intact[i], X_median_imputed, X_mask[i]))\n",
    "\n",
    "result_pamaps2_imputation.append(res)"
   ]
  },
  {
   "cell_type": "code",
   "execution_count": null,
   "metadata": {},
   "outputs": [],
   "source": [
    "# BRITS\n",
    "\n",
    "res = []\n",
    "\n",
    "for i in range(3):\n",
    "    brits = BRITS(n_steps=n_steps_brits, n_features=n_features_brits,rnn_hidden_size=rnn_hidden_size_brits, epochs=epochs_brits)\n",
    "    brits.fit(X_missing[i])\n",
    "    imputation = brits.impute(X_missing[i])\n",
    "    res.append(cal_mae(imputation, X_intact[i], X_mask[i]))\n",
    "    res.append(cal_rmse(imputation, X_intact[i], X_mask[i]))\n",
    "    res.append(cal_mre(imputation, X_intact[i], X_mask[i]))\n",
    "\n",
    "result_pamaps2_imputation.append(res)"
   ]
  },
  {
   "cell_type": "code",
   "execution_count": null,
   "metadata": {},
   "outputs": [],
   "source": [
    "# SAITS\n",
    "\n",
    "res = []\n",
    "\n",
    "for i in range(3):\n",
    "    saits = SAITS(n_steps=n_steps_saits, n_features=n_features_saits, n_layers=n_layers_saits, d_model=d_model_saits, d_inner=d_inner_saits, n_head=n_head_saits, d_k=d_k_saits, d_v=d_v_saits, dropout=dropout_saits, epochs=epochs_saits)\n",
    "    saits.fit(X_missing[i])\n",
    "    imputation = saits.impute(X_missing[i])\n",
    "    res.append(cal_mae(imputation, X_intact[i], X_mask[i]))\n",
    "    res.append(cal_rmse(imputation, X_intact[i], X_mask[i]))\n",
    "    res.append(cal_mre(imputation, X_intact[i], X_mask[i]))\n",
    "\n",
    "result_pamaps2_imputation.append(res)"
   ]
  },
  {
   "cell_type": "code",
   "execution_count": 12,
   "metadata": {},
   "outputs": [],
   "source": [
    "errors = [\"mae\", \"rmse\", \"mre\"]\n",
    "cols = []\n",
    "\n",
    "for i in missingness:\n",
    "    for j in errors:\n",
    "        cols.append(i+\" \"+j)\n",
    "\n",
    "methods = [\"zero-filling imputation\", \"mean imputation\", \"median imputation\", \"BRITS\", \"SAITS\"]\n",
    "result_pamaps2_imputation = pd.DataFrame(result_pamaps2_imputation, columns = cols, index=methods)"
   ]
  },
  {
   "cell_type": "code",
   "execution_count": 31,
   "metadata": {},
   "outputs": [
    {
     "data": {
      "text/html": [
       "<div>\n",
       "<style scoped>\n",
       "    .dataframe tbody tr th:only-of-type {\n",
       "        vertical-align: middle;\n",
       "    }\n",
       "\n",
       "    .dataframe tbody tr th {\n",
       "        vertical-align: top;\n",
       "    }\n",
       "\n",
       "    .dataframe thead th {\n",
       "        text-align: right;\n",
       "    }\n",
       "</style>\n",
       "<table border=\"1\" class=\"dataframe\">\n",
       "  <thead>\n",
       "    <tr style=\"text-align: right;\">\n",
       "      <th></th>\n",
       "      <th>MCAR mae</th>\n",
       "      <th>MCAR rmse</th>\n",
       "      <th>MCAR mre</th>\n",
       "      <th>MAR mae</th>\n",
       "      <th>MAR rmse</th>\n",
       "      <th>MAR mre</th>\n",
       "      <th>MNAR mae</th>\n",
       "      <th>MNAR rmse</th>\n",
       "      <th>MNAR mre</th>\n",
       "    </tr>\n",
       "  </thead>\n",
       "  <tbody>\n",
       "    <tr>\n",
       "      <th>zero-filling imputation</th>\n",
       "      <td>43.001326</td>\n",
       "      <td>296.209078</td>\n",
       "      <td>1.269585e+18</td>\n",
       "      <td>44.795440</td>\n",
       "      <td>302.214721</td>\n",
       "      <td>1.322842e+18</td>\n",
       "      <td>43.000029</td>\n",
       "      <td>296.078032</td>\n",
       "      <td>1.269733e+18</td>\n",
       "    </tr>\n",
       "    <tr>\n",
       "      <th>mean imputation</th>\n",
       "      <td>1827.534261</td>\n",
       "      <td>2135.402027</td>\n",
       "      <td>1.000626e+00</td>\n",
       "      <td>1843.997157</td>\n",
       "      <td>2148.611512</td>\n",
       "      <td>1.000663e+00</td>\n",
       "      <td>1824.700344</td>\n",
       "      <td>2132.157724</td>\n",
       "      <td>1.000621e+00</td>\n",
       "    </tr>\n",
       "    <tr>\n",
       "      <th>median imputation</th>\n",
       "      <td>1827.516164</td>\n",
       "      <td>2135.420835</td>\n",
       "      <td>1.000626e+00</td>\n",
       "      <td>1843.981177</td>\n",
       "      <td>2148.633080</td>\n",
       "      <td>1.000663e+00</td>\n",
       "      <td>1824.687548</td>\n",
       "      <td>2132.176473</td>\n",
       "      <td>1.000621e+00</td>\n",
       "    </tr>\n",
       "    <tr>\n",
       "      <th>BRITS</th>\n",
       "      <td>30.418686</td>\n",
       "      <td>147.324833</td>\n",
       "      <td>4.026330e-01</td>\n",
       "      <td>31.762073</td>\n",
       "      <td>151.236273</td>\n",
       "      <td>3.689206e-01</td>\n",
       "      <td>36.282232</td>\n",
       "      <td>150.060937</td>\n",
       "      <td>4.005351e-01</td>\n",
       "    </tr>\n",
       "    <tr>\n",
       "      <th>SAITS</th>\n",
       "      <td>18.222896</td>\n",
       "      <td>61.980596</td>\n",
       "      <td>4.206070e-01</td>\n",
       "      <td>17.388033</td>\n",
       "      <td>53.826534</td>\n",
       "      <td>2.331210e-01</td>\n",
       "      <td>26.891733</td>\n",
       "      <td>70.600211</td>\n",
       "      <td>3.653870e-01</td>\n",
       "    </tr>\n",
       "  </tbody>\n",
       "</table>\n",
       "</div>"
      ],
      "text/plain": [
       "                            MCAR mae    MCAR rmse      MCAR mre      MAR mae  \\\n",
       "zero-filling imputation    43.001326   296.209078  1.269585e+18    44.795440   \n",
       "mean imputation          1827.534261  2135.402027  1.000626e+00  1843.997157   \n",
       "median imputation        1827.516164  2135.420835  1.000626e+00  1843.981177   \n",
       "BRITS                      30.418686   147.324833  4.026330e-01    31.762073   \n",
       "SAITS                      18.222896    61.980596  4.206070e-01    17.388033   \n",
       "\n",
       "                            MAR rmse       MAR mre     MNAR mae    MNAR rmse  \\\n",
       "zero-filling imputation   302.214721  1.322842e+18    43.000029   296.078032   \n",
       "mean imputation          2148.611512  1.000663e+00  1824.700344  2132.157724   \n",
       "median imputation        2148.633080  1.000663e+00  1824.687548  2132.176473   \n",
       "BRITS                     151.236273  3.689206e-01    36.282232   150.060937   \n",
       "SAITS                      53.826534  2.331210e-01    26.891733    70.600211   \n",
       "\n",
       "                             MNAR mre  \n",
       "zero-filling imputation  1.269733e+18  \n",
       "mean imputation          1.000621e+00  \n",
       "median imputation        1.000621e+00  \n",
       "BRITS                    4.005351e-01  \n",
       "SAITS                    3.653870e-01  "
      ]
     },
     "execution_count": 31,
     "metadata": {},
     "output_type": "execute_result"
    }
   ],
   "source": [
    "result_pamaps2_imputation"
   ]
  }
 ],
 "metadata": {
  "interpreter": {
   "hash": "85eab4bc6c6c5de8d8c9b73424489217eb3ac6fe3bc76caf6b2eb1d4f520884f"
  },
  "kernelspec": {
   "display_name": "Python 3.9.12 ('tf')",
   "language": "python",
   "name": "python3"
  },
  "language_info": {
   "codemirror_mode": {
    "name": "ipython",
    "version": 3
   },
   "file_extension": ".py",
   "mimetype": "text/x-python",
   "name": "python",
   "nbconvert_exporter": "python",
   "pygments_lexer": "ipython3",
   "version": "3.9.12"
  },
  "orig_nbformat": 4
 },
 "nbformat": 4,
 "nbformat_minor": 2
}
