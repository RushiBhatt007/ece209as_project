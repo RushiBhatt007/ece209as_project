{
 "cells": [
  {
   "cell_type": "code",
   "execution_count": 1,
   "metadata": {},
   "outputs": [
    {
     "name": "stderr",
     "output_type": "stream",
     "text": [
      "c:\\Users\\RUSHI\\anaconda3\\envs\\tf\\lib\\site-packages\\tqdm\\auto.py:22: TqdmWarning: IProgress not found. Please update jupyter and ipywidgets. See https://ipywidgets.readthedocs.io/en/stable/user_install.html\n",
      "  from .autonotebook import tqdm as notebook_tqdm\n"
     ]
    }
   ],
   "source": [
    "import simulate\n",
    "import baseline\n",
    "import dataload\n",
    "import numpy as np\n",
    "import pandas as pd\n",
    "from sklearn.preprocessing import StandardScaler\n",
    "#import pypots\n",
    "from pypots.data import load_specific_dataset, mcar, masked_fill\n",
    "from pypots.imputation import SAITS\n",
    "from pypots.utils.metrics import cal_mae, cal_rmse, cal_mre"
   ]
  },
  {
   "cell_type": "markdown",
   "metadata": {},
   "source": [
    "# UCI HAR with baseline methods"
   ]
  },
  {
   "cell_type": "code",
   "execution_count": 4,
   "metadata": {},
   "outputs": [],
   "source": [
    "dict = dataload.uci()\n",
    "X = dict[\"X\"]\n",
    "y = dict[\"y\"]"
   ]
  },
  {
   "cell_type": "code",
   "execution_count": 5,
   "metadata": {},
   "outputs": [],
   "source": [
    "# MCAR\n",
    "dict = simulate.simulate_nan(X, 0.1, \"MCAR\")\n",
    "X_intact = dict['X_init']\n",
    "X_missing = dict['X_incomp']\n",
    "X_mask = dict['mask']"
   ]
  },
  {
   "cell_type": "code",
   "execution_count": 6,
   "metadata": {},
   "outputs": [],
   "source": [
    "# Zero-filling imputation\n",
    "\n",
    "X_zero_imputed = baseline.zero_filling_imputation(X_missing)\n",
    "\n",
    "result = []\n",
    "result.append([cal_mae(X_intact, X_zero_imputed), cal_rmse(X_intact, X_zero_imputed), cal_mre(X_intact, X_zero_imputed)])"
   ]
  },
  {
   "cell_type": "code",
   "execution_count": 7,
   "metadata": {},
   "outputs": [],
   "source": [
    "# Mean imputation\n",
    "\n",
    "X_mean_imputed = baseline.mean_imputation(X_missing)\n",
    "result.append([cal_mae(X_intact, X_mean_imputed), cal_rmse(X_intact, X_mean_imputed), cal_mre(X_intact, X_mean_imputed)])"
   ]
  },
  {
   "cell_type": "code",
   "execution_count": 8,
   "metadata": {},
   "outputs": [],
   "source": [
    "# Median imputation\n",
    "\n",
    "X_median_imputed = baseline.median_imputation(X_missing)\n",
    "result.append([cal_mae(X_intact, X_median_imputed), cal_rmse(X_intact, X_median_imputed), cal_mre(X_intact, X_median_imputed)])"
   ]
  },
  {
   "cell_type": "code",
   "execution_count": 9,
   "metadata": {},
   "outputs": [],
   "source": [
    "result = pd.DataFrame(result, columns = [\"mae\", \"rmse\", \"mre\"], index=[\"zero-filling imputation\", \"mean imputation\", \"median imputation\"])"
   ]
  },
  {
   "cell_type": "code",
   "execution_count": 10,
   "metadata": {},
   "outputs": [
    {
     "data": {
      "text/html": [
       "<div>\n",
       "<style scoped>\n",
       "    .dataframe tbody tr th:only-of-type {\n",
       "        vertical-align: middle;\n",
       "    }\n",
       "\n",
       "    .dataframe tbody tr th {\n",
       "        vertical-align: top;\n",
       "    }\n",
       "\n",
       "    .dataframe thead th {\n",
       "        text-align: right;\n",
       "    }\n",
       "</style>\n",
       "<table border=\"1\" class=\"dataframe\">\n",
       "  <thead>\n",
       "    <tr style=\"text-align: right;\">\n",
       "      <th></th>\n",
       "      <th>mae</th>\n",
       "      <th>rmse</th>\n",
       "      <th>mre</th>\n",
       "    </tr>\n",
       "  </thead>\n",
       "  <tbody>\n",
       "    <tr>\n",
       "      <th>zero-filling imputation</th>\n",
       "      <td>0.011483</td>\n",
       "      <td>0.073733</td>\n",
       "      <td>9.364368e-09</td>\n",
       "    </tr>\n",
       "    <tr>\n",
       "      <th>mean imputation</th>\n",
       "      <td>0.011569</td>\n",
       "      <td>0.073462</td>\n",
       "      <td>9.302820e-09</td>\n",
       "    </tr>\n",
       "    <tr>\n",
       "      <th>median imputation</th>\n",
       "      <td>0.011354</td>\n",
       "      <td>0.074229</td>\n",
       "      <td>9.079908e-09</td>\n",
       "    </tr>\n",
       "  </tbody>\n",
       "</table>\n",
       "</div>"
      ],
      "text/plain": [
       "                              mae      rmse           mre\n",
       "zero-filling imputation  0.011483  0.073733  9.364368e-09\n",
       "mean imputation          0.011569  0.073462  9.302820e-09\n",
       "median imputation        0.011354  0.074229  9.079908e-09"
      ]
     },
     "execution_count": 10,
     "metadata": {},
     "output_type": "execute_result"
    }
   ],
   "source": [
    "result"
   ]
  },
  {
   "cell_type": "markdown",
   "metadata": {},
   "source": [
    "# PAMAPS2 with baseline methods"
   ]
  },
  {
   "cell_type": "code",
   "execution_count": 24,
   "metadata": {},
   "outputs": [],
   "source": [
    "dict = dataload.pamaps2(window_size=40, drop_nan=True)\n",
    "X = dict[\"X\"]\n",
    "y = dict[\"y\"]"
   ]
  },
  {
   "cell_type": "code",
   "execution_count": 25,
   "metadata": {},
   "outputs": [],
   "source": [
    "# MCAR\n",
    "\n",
    "dict = simulate.simulate_nan(X, 0.1, \"MCAR\")\n",
    "X_intact = dict['X_init']\n",
    "X_missing = dict['X_incomp']\n",
    "X_mask = dict['mask']\n",
    "\n",
    "# X_intact, X_missing, missing_mask, X_mask = mcar(X, 0.1)\n",
    "# X_missing = masked_fill(X_missing, 1 - missing_mask, np.nan)"
   ]
  },
  {
   "cell_type": "code",
   "execution_count": 26,
   "metadata": {},
   "outputs": [],
   "source": [
    "# Zero-filling imputation\n",
    "\n",
    "X_zero_imputed = baseline.zero_filling_imputation(X_missing)\n",
    "\n",
    "result = []\n",
    "result.append([cal_mae(X_intact, X_zero_imputed), cal_rmse(X_intact, X_zero_imputed, X_mask), cal_mre(X_intact, X_zero_imputed)])"
   ]
  },
  {
   "cell_type": "code",
   "execution_count": 27,
   "metadata": {},
   "outputs": [],
   "source": [
    "# Mean imputation\n",
    "\n",
    "X_mean_imputed = baseline.mean_imputation(X_missing)\n",
    "result.append([cal_mae(X_intact, X_mean_imputed, X_mask), cal_rmse(X_intact, X_mean_imputed, X_mask), cal_mre(X_intact, X_mean_imputed, X_mask)])"
   ]
  },
  {
   "cell_type": "code",
   "execution_count": 28,
   "metadata": {},
   "outputs": [],
   "source": [
    "# Median imputation\n",
    "\n",
    "X_median_imputed = baseline.median_imputation(X_missing)\n",
    "result.append([cal_mae(X_intact, X_median_imputed, X_mask), cal_rmse(X_intact, X_median_imputed, X_mask), cal_mre(X_intact, X_median_imputed, X_mask)])"
   ]
  },
  {
   "cell_type": "code",
   "execution_count": 29,
   "metadata": {},
   "outputs": [],
   "source": [
    "result = pd.DataFrame(result, columns = [\"mae\", \"rmse\", \"mre\"], index=[\"zero-filling imputation\", \"mean imputation\", \"median imputation\"])"
   ]
  },
  {
   "cell_type": "code",
   "execution_count": 30,
   "metadata": {},
   "outputs": [
    {
     "data": {
      "text/html": [
       "<div>\n",
       "<style scoped>\n",
       "    .dataframe tbody tr th:only-of-type {\n",
       "        vertical-align: middle;\n",
       "    }\n",
       "\n",
       "    .dataframe tbody tr th {\n",
       "        vertical-align: top;\n",
       "    }\n",
       "\n",
       "    .dataframe thead th {\n",
       "        text-align: right;\n",
       "    }\n",
       "</style>\n",
       "<table border=\"1\" class=\"dataframe\">\n",
       "  <thead>\n",
       "    <tr style=\"text-align: right;\">\n",
       "      <th></th>\n",
       "      <th>mae</th>\n",
       "      <th>rmse</th>\n",
       "      <th>mre</th>\n",
       "    </tr>\n",
       "  </thead>\n",
       "  <tbody>\n",
       "    <tr>\n",
       "      <th>zero-filling imputation</th>\n",
       "      <td>4.296323</td>\n",
       "      <td>296.018871</td>\n",
       "      <td>3.757381e-10</td>\n",
       "    </tr>\n",
       "    <tr>\n",
       "      <th>mean imputation</th>\n",
       "      <td>1789.573271</td>\n",
       "      <td>2112.311897</td>\n",
       "      <td>9.799233e-01</td>\n",
       "    </tr>\n",
       "    <tr>\n",
       "      <th>median imputation</th>\n",
       "      <td>1789.551441</td>\n",
       "      <td>2112.324841</td>\n",
       "      <td>9.799231e-01</td>\n",
       "    </tr>\n",
       "  </tbody>\n",
       "</table>\n",
       "</div>"
      ],
      "text/plain": [
       "                                 mae         rmse           mre\n",
       "zero-filling imputation     4.296323   296.018871  3.757381e-10\n",
       "mean imputation          1789.573271  2112.311897  9.799233e-01\n",
       "median imputation        1789.551441  2112.324841  9.799231e-01"
      ]
     },
     "execution_count": 30,
     "metadata": {},
     "output_type": "execute_result"
    }
   ],
   "source": [
    "result"
   ]
  }
 ],
 "metadata": {
  "interpreter": {
   "hash": "85eab4bc6c6c5de8d8c9b73424489217eb3ac6fe3bc76caf6b2eb1d4f520884f"
  },
  "kernelspec": {
   "display_name": "Python 3.9.12 ('tf')",
   "language": "python",
   "name": "python3"
  },
  "language_info": {
   "codemirror_mode": {
    "name": "ipython",
    "version": 3
   },
   "file_extension": ".py",
   "mimetype": "text/x-python",
   "name": "python",
   "nbconvert_exporter": "python",
   "pygments_lexer": "ipython3",
   "version": "3.9.12"
  },
  "orig_nbformat": 4
 },
 "nbformat": 4,
 "nbformat_minor": 2
}
