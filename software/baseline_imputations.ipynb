{
 "cells": [
  {
   "cell_type": "code",
   "execution_count": 1,
   "metadata": {},
   "outputs": [
    {
     "name": "stderr",
     "output_type": "stream",
     "text": [
      "c:\\Users\\RUSHI\\anaconda3\\envs\\tf\\lib\\site-packages\\tqdm\\auto.py:22: TqdmWarning: IProgress not found. Please update jupyter and ipywidgets. See https://ipywidgets.readthedocs.io/en/stable/user_install.html\n",
      "  from .autonotebook import tqdm as notebook_tqdm\n"
     ]
    }
   ],
   "source": [
    "import simulate\n",
    "import baseline\n",
    "import numpy as np\n",
    "import pandas as pd\n",
    "from sklearn.preprocessing import StandardScaler\n",
    "#import pypots\n",
    "from pypots.data import load_specific_dataset, mcar, masked_fill\n",
    "from pypots.imputation import SAITS\n",
    "from pypots.utils.metrics import cal_mae, cal_rmse, cal_mre"
   ]
  },
  {
   "cell_type": "markdown",
   "metadata": {},
   "source": [
    "# UCI HAR with baseline methods"
   ]
  },
  {
   "cell_type": "code",
   "execution_count": 2,
   "metadata": {},
   "outputs": [],
   "source": [
    "train_directory = \"D:/GitHub/ece209as_project/data/UCI_HAR_Dataset/train/Inertial_Signals/\"\n",
    "\n",
    "train_files = [\"body_acc_x_train.txt\", \"body_acc_y_train.txt\", \"body_acc_z_train.txt\", \n",
    "        \"body_gyro_x_train.txt\", \"body_gyro_y_train.txt\", \"body_gyro_z_train.txt\", \n",
    "        \"body_acc_x_train.txt\", \"body_acc_y_train.txt\", \"body_acc_z_train.txt\"]\n",
    "\n",
    "train_df = []\n",
    "train_y = pd.read_csv(\"D:/GitHub/ece209as_project/data/UCI_HAR_Dataset/train/y_train.txt\", header=None)\n",
    "\n",
    "test_directory = \"D:/GitHub/ece209as_project/data/UCI_HAR_Dataset/test/Inertial_Signals/\"\n",
    "\n",
    "test_files = [\"body_acc_x_test.txt\", \"body_acc_y_test.txt\", \"body_acc_z_test.txt\", \n",
    "        \"body_gyro_x_test.txt\", \"body_gyro_y_test.txt\", \"body_gyro_z_test.txt\", \n",
    "        \"body_acc_x_test.txt\", \"body_acc_y_test.txt\", \"body_acc_z_test.txt\"]\n",
    "\n",
    "test_df = []\n",
    "test_y = pd.read_csv(\"D:/GitHub/ece209as_project/data/UCI_HAR_Dataset/test/y_test.txt\", header=None)\n",
    "\n",
    "\n",
    "for train_file in train_files:\n",
    "    df = pd.read_csv(train_directory+train_file, delim_whitespace=True, header=None)\n",
    "    train_df.append(np.array(df))\n",
    "\n",
    "for test_file in test_files:\n",
    "    df = pd.read_csv(test_directory+test_file, delim_whitespace=True, header=None)\n",
    "    test_df.append(np.array(df))\n",
    "\n",
    "train_X = np.array(train_df).reshape([len(train_y), 128, 9])\n",
    "test_X = np.array(test_df).reshape([len(test_y), 128, 9])"
   ]
  },
  {
   "cell_type": "code",
   "execution_count": 3,
   "metadata": {},
   "outputs": [],
   "source": [
    "# MCAR\n",
    "dict = simulate.simulate_nan(train_X, 0.1, \"MCAR\")\n",
    "X_intact = dict['X_init']\n",
    "X_missing = dict['X_incomp']\n",
    "X_mask = dict['mask']"
   ]
  },
  {
   "cell_type": "code",
   "execution_count": 4,
   "metadata": {},
   "outputs": [],
   "source": [
    "# Zero-filling imputation\n",
    "\n",
    "X_zero_imputed = baseline.zero_filling_imputation(X_missing)\n",
    "\n",
    "result = []\n",
    "result.append([cal_mae(X_intact, X_zero_imputed), cal_rmse(X_intact, X_zero_imputed), cal_mre(X_intact, X_zero_imputed)])"
   ]
  },
  {
   "cell_type": "code",
   "execution_count": 5,
   "metadata": {},
   "outputs": [],
   "source": [
    "# Mean imputation\n",
    "\n",
    "X_mean_imputed = baseline.mean_imputation(X_missing)\n",
    "result.append([cal_mae(X_intact, X_mean_imputed), cal_rmse(X_intact, X_mean_imputed), cal_mre(X_intact, X_mean_imputed)])"
   ]
  },
  {
   "cell_type": "code",
   "execution_count": 6,
   "metadata": {},
   "outputs": [],
   "source": [
    "# Median imputation\n",
    "\n",
    "X_median_imputed = baseline.median_imputation(X_missing)\n",
    "result.append([cal_mae(X_intact, X_median_imputed), cal_rmse(X_intact, X_median_imputed), cal_mre(X_intact, X_median_imputed)])"
   ]
  },
  {
   "cell_type": "code",
   "execution_count": 7,
   "metadata": {},
   "outputs": [],
   "source": [
    "result = pd.DataFrame(result, columns = [\"mae\", \"rmse\", \"mre\"], index=[\"zero-filling imputation\", \"mean imputation\", \"median imputation\"])"
   ]
  },
  {
   "cell_type": "code",
   "execution_count": 8,
   "metadata": {},
   "outputs": [
    {
     "data": {
      "text/html": [
       "<div>\n",
       "<style scoped>\n",
       "    .dataframe tbody tr th:only-of-type {\n",
       "        vertical-align: middle;\n",
       "    }\n",
       "\n",
       "    .dataframe tbody tr th {\n",
       "        vertical-align: top;\n",
       "    }\n",
       "\n",
       "    .dataframe thead th {\n",
       "        text-align: right;\n",
       "    }\n",
       "</style>\n",
       "<table border=\"1\" class=\"dataframe\">\n",
       "  <thead>\n",
       "    <tr style=\"text-align: right;\">\n",
       "      <th></th>\n",
       "      <th>mae</th>\n",
       "      <th>rmse</th>\n",
       "      <th>mre</th>\n",
       "    </tr>\n",
       "  </thead>\n",
       "  <tbody>\n",
       "    <tr>\n",
       "      <th>zero-filling imputation</th>\n",
       "      <td>0.011605</td>\n",
       "      <td>0.075121</td>\n",
       "      <td>1.316129e-08</td>\n",
       "    </tr>\n",
       "    <tr>\n",
       "      <th>mean imputation</th>\n",
       "      <td>0.011699</td>\n",
       "      <td>0.074824</td>\n",
       "      <td>1.308314e-08</td>\n",
       "    </tr>\n",
       "    <tr>\n",
       "      <th>median imputation</th>\n",
       "      <td>0.011484</td>\n",
       "      <td>0.075620</td>\n",
       "      <td>1.277239e-08</td>\n",
       "    </tr>\n",
       "  </tbody>\n",
       "</table>\n",
       "</div>"
      ],
      "text/plain": [
       "                              mae      rmse           mre\n",
       "zero-filling imputation  0.011605  0.075121  1.316129e-08\n",
       "mean imputation          0.011699  0.074824  1.308314e-08\n",
       "median imputation        0.011484  0.075620  1.277239e-08"
      ]
     },
     "execution_count": 8,
     "metadata": {},
     "output_type": "execute_result"
    }
   ],
   "source": [
    "result"
   ]
  }
 ],
 "metadata": {
  "interpreter": {
   "hash": "85eab4bc6c6c5de8d8c9b73424489217eb3ac6fe3bc76caf6b2eb1d4f520884f"
  },
  "kernelspec": {
   "display_name": "Python 3.9.12 ('tf')",
   "language": "python",
   "name": "python3"
  },
  "language_info": {
   "codemirror_mode": {
    "name": "ipython",
    "version": 3
   },
   "file_extension": ".py",
   "mimetype": "text/x-python",
   "name": "python",
   "nbconvert_exporter": "python",
   "pygments_lexer": "ipython3",
   "version": "3.9.12"
  },
  "orig_nbformat": 4
 },
 "nbformat": 4,
 "nbformat_minor": 2
}
