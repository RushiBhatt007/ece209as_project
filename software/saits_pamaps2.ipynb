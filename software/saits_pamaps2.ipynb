{
 "cells": [
  {
   "cell_type": "code",
   "execution_count": 1,
   "metadata": {},
   "outputs": [
    {
     "name": "stderr",
     "output_type": "stream",
     "text": [
      "c:\\Users\\RUSHI\\anaconda3\\envs\\tf\\lib\\site-packages\\tqdm\\auto.py:22: TqdmWarning: IProgress not found. Please update jupyter and ipywidgets. See https://ipywidgets.readthedocs.io/en/stable/user_install.html\n",
      "  from .autonotebook import tqdm as notebook_tqdm\n"
     ]
    }
   ],
   "source": [
    "import numpy as np\n",
    "import pandas as pd\n",
    "from sklearn.preprocessing import StandardScaler\n",
    "#import pypots\n",
    "from pypots.data import load_specific_dataset, mcar, masked_fill\n",
    "from pypots.imputation import SAITS\n",
    "from pypots.utils.metrics import cal_mae"
   ]
  },
  {
   "cell_type": "code",
   "execution_count": 2,
   "metadata": {},
   "outputs": [],
   "source": [
    "train_directory = \"D:/GitHub/ece209as_project/data/PAMAP2_Dataset/Protocol\"\n",
    "\n",
    "train_files = \"/subject101.dat\"\n",
    "\n",
    "train_df = pd.read_csv(train_directory+train_files, delim_whitespace=True, header=None)"
   ]
  },
  {
   "cell_type": "code",
   "execution_count": 3,
   "metadata": {},
   "outputs": [],
   "source": [
    "train_Y = np.array(train_df[1])\n",
    "train_X = np.array(train_df.drop(columns=1))"
   ]
  },
  {
   "cell_type": "code",
   "execution_count": 24,
   "metadata": {},
   "outputs": [],
   "source": [
    "def createWindows(train_X, train_Y, window_size):\n",
    "    X = []\n",
    "    Y = []\n",
    "    i= 0\n",
    "\n",
    "    while i<len(train_X):\n",
    "        count = 0\n",
    "        j = i\n",
    "        while j<min(i+window_size, len(train_X)):\n",
    "            if(train_Y[int(j)] == train_Y[int(i)]):\n",
    "                count+=1\n",
    "            else:\n",
    "                break\n",
    "            j=j+1\n",
    "        if(count == window_size):\n",
    "            X.append(train_X[int(i):int(i+window_size)])\n",
    "            Y.append(train_Y[int(i)])\n",
    "            i+=(window_size/2)\n",
    "        else:\n",
    "            i=i+1\n",
    "\n",
    "    X = np.array(X)\n",
    "    Y = np.array(Y)\n",
    "    return X, Y"
   ]
  },
  {
   "cell_type": "code",
   "execution_count": 23,
   "metadata": {},
   "outputs": [
    {
     "name": "stdout",
     "output_type": "stream",
     "text": [
      "Model initialized successfully. Number of the trainable parameters: 1406222\n",
      "epoch 0: training loss 22.8054\n",
      "epoch 1: training loss 7.2726\n",
      "epoch 2: training loss 6.0304\n",
      "epoch 3: training loss 5.4439\n",
      "epoch 4: training loss 5.0384\n",
      "epoch 5: training loss 4.7735\n",
      "epoch 6: training loss 4.5378\n",
      "epoch 7: training loss 4.3608\n",
      "epoch 8: training loss 4.1748\n",
      "epoch 9: training loss 4.0668\n",
      "Finished training.\n"
     ]
    }
   ],
   "source": [
    "window_size = 40\n",
    "X_40, Y_40 = createWindows(train_X, train_Y, window_size)\n",
    "\n",
    "X_intact, X_orig, missing_mask, indicating_mask = mcar(X_40, 0.1)\n",
    "X_orig = masked_fill(X_orig, 1 - missing_mask, np.nan)\n",
    "saits = SAITS(n_steps=window_size, n_features=53, n_layers=2, d_model=256, d_inner=128, n_head=4, d_k=64, d_v=64, dropout=0.1, epochs=10)\n",
    "saits.fit(X_40)\n",
    "imputation = saits.impute(X_orig)\n",
    "mae = cal_mae(imputation, X_intact, indicating_mask)"
   ]
  },
  {
   "cell_type": "code",
   "execution_count": 26,
   "metadata": {},
   "outputs": [
    {
     "name": "stdout",
     "output_type": "stream",
     "text": [
      "Model initialized successfully. Number of the trainable parameters: 1410886\n",
      "epoch 0: training loss 41.2008\n",
      "epoch 1: training loss 12.7311\n",
      "epoch 2: training loss 9.4692\n",
      "epoch 3: training loss 8.2919\n",
      "epoch 4: training loss 7.6683\n",
      "epoch 5: training loss 7.3879\n",
      "epoch 6: training loss 6.8452\n",
      "epoch 7: training loss 6.5583\n",
      "epoch 8: training loss 6.2919\n",
      "epoch 9: training loss 6.0540\n",
      "Finished training.\n"
     ]
    }
   ],
   "source": [
    "window_size = 128\n",
    "X_128, Y_128 = createWindows(train_X, train_Y, window_size)\n",
    "\n",
    "X_intact, X_orig, missing_mask, indicating_mask = mcar(X_128, 0.1)\n",
    "X_orig = masked_fill(X_orig, 1 - missing_mask, np.nan)\n",
    "saits = SAITS(n_steps=window_size, n_features=53, n_layers=2, d_model=256, d_inner=128, n_head=4, d_k=64, d_v=64, dropout=0.1, epochs=10)\n",
    "saits.fit(X_128)\n",
    "imputation = saits.impute(X_orig)\n",
    "mae = cal_mae(imputation, X_intact, indicating_mask)"
   ]
  },
  {
   "cell_type": "code",
   "execution_count": 27,
   "metadata": {},
   "outputs": [
    {
     "name": "stdout",
     "output_type": "stream",
     "text": [
      "Model initialized successfully. Number of the trainable parameters: 1425302\n",
      "epoch 0: training loss 74.3773\n",
      "epoch 1: training loss 33.0137\n",
      "epoch 2: training loss 25.8722\n",
      "epoch 3: training loss 20.4515\n",
      "epoch 4: training loss 14.1764\n",
      "epoch 5: training loss 11.9564\n",
      "epoch 6: training loss 10.9384\n",
      "epoch 7: training loss 10.1627\n",
      "epoch 8: training loss 9.5891\n",
      "epoch 9: training loss 9.1448\n",
      "Finished training.\n"
     ]
    }
   ],
   "source": [
    "window_size = 400\n",
    "X_400, Y_400 = createWindows(train_X, train_Y, window_size)\n",
    "\n",
    "X_intact, X_orig, missing_mask, indicating_mask = mcar(X_400, 0.1)\n",
    "X_orig = masked_fill(X_orig, 1 - missing_mask, np.nan)\n",
    "saits = SAITS(n_steps=window_size, n_features=53, n_layers=2, d_model=256, d_inner=128, n_head=4, d_k=64, d_v=64, dropout=0.1, epochs=10)\n",
    "saits.fit(X_400)\n",
    "imputation = saits.impute(X_orig)\n",
    "mae = cal_mae(imputation, X_intact, indicating_mask)"
   ]
  }
 ],
 "metadata": {
  "interpreter": {
   "hash": "85eab4bc6c6c5de8d8c9b73424489217eb3ac6fe3bc76caf6b2eb1d4f520884f"
  },
  "kernelspec": {
   "display_name": "Python 3.9.12 ('tf')",
   "language": "python",
   "name": "python3"
  },
  "language_info": {
   "codemirror_mode": {
    "name": "ipython",
    "version": 3
   },
   "file_extension": ".py",
   "mimetype": "text/x-python",
   "name": "python",
   "nbconvert_exporter": "python",
   "pygments_lexer": "ipython3",
   "version": "3.9.12"
  },
  "orig_nbformat": 4
 },
 "nbformat": 4,
 "nbformat_minor": 2
}
