{
 "cells": [
  {
   "cell_type": "code",
   "execution_count": 28,
   "metadata": {},
   "outputs": [],
   "source": [
    "import numpy as np\n",
    "import pandas as pd\n",
    "from sklearn.preprocessing import StandardScaler\n",
    "#import pypots\n",
    "from pypots.data import load_specific_dataset, mcar, masked_fill\n",
    "from pypots.imputation import SAITS\n",
    "from pypots.utils.metrics import cal_mae"
   ]
  },
  {
   "cell_type": "code",
   "execution_count": 29,
   "metadata": {},
   "outputs": [],
   "source": [
    "train_directory = \"D:/GitHub/ece209as_project/data/PAMAP2_Dataset/Protocol\"\n",
    "\n",
    "train_files = \"/subject101.dat\"\n",
    "\n",
    "train_df = pd.read_csv(train_directory+train_files, delim_whitespace=True, header=None)"
   ]
  },
  {
   "cell_type": "code",
   "execution_count": 30,
   "metadata": {},
   "outputs": [],
   "source": [
    "train_Y = np.array(train_df[1])\n",
    "train_X = np.array(train_df.drop(columns=1))"
   ]
  },
  {
   "cell_type": "code",
   "execution_count": 31,
   "metadata": {},
   "outputs": [],
   "source": [
    "def createWindows(train_X, train_Y, window_size):\n",
    "    X = []\n",
    "    Y = []\n",
    "    i= 0\n",
    "\n",
    "    while i<len(train_X):\n",
    "        count = 0\n",
    "        j = i\n",
    "        while j<min(i+window_size, len(train_X)):\n",
    "            if(train_Y[int(j)] == train_Y[int(i)]):\n",
    "                count+=1\n",
    "            else:\n",
    "                break\n",
    "            j=j+1\n",
    "        if(count == window_size):\n",
    "            X.append(train_X[int(i):int(i+window_size)])\n",
    "            Y.append(train_Y[int(i)])\n",
    "            i+=(window_size/2)\n",
    "        else:\n",
    "            i=i+1\n",
    "\n",
    "    X = np.array(X)\n",
    "    Y = np.array(Y)\n",
    "    return X, Y"
   ]
  },
  {
   "cell_type": "code",
   "execution_count": 32,
   "metadata": {},
   "outputs": [
    {
     "name": "stdout",
     "output_type": "stream",
     "text": [
      "Model initialized successfully. Number of the trainable parameters: 1404632\n",
      "epoch 0: training loss 10.5483\n",
      "epoch 1: training loss 5.1888\n",
      "epoch 2: training loss 4.3981\n",
      "epoch 3: training loss 3.9560\n",
      "epoch 4: training loss 3.5945\n",
      "epoch 5: training loss 3.3313\n",
      "epoch 6: training loss 3.1367\n",
      "epoch 7: training loss 2.9790\n",
      "epoch 8: training loss 2.8160\n",
      "epoch 9: training loss 2.6855\n",
      "Finished training.\n"
     ]
    }
   ],
   "source": [
    "window_size = 10\n",
    "X_10, Y_10 = createWindows(train_X, train_Y, window_size)\n",
    "\n",
    "X_intact, X_orig, missing_mask, indicating_mask = mcar(X_10, 0.1)\n",
    "X_orig = masked_fill(X_orig, 1 - missing_mask, np.nan)\n",
    "saits = SAITS(n_steps=window_size, n_features=53, n_layers=2, d_model=256, d_inner=128, n_head=4, d_k=64, d_v=64, dropout=0.1, epochs=10)\n",
    "saits.fit(X_10)\n",
    "imputation = saits.impute(X_orig)\n",
    "mae = cal_mae(imputation, X_intact, indicating_mask)"
   ]
  },
  {
   "cell_type": "code",
   "execution_count": 33,
   "metadata": {},
   "outputs": [
    {
     "name": "stdout",
     "output_type": "stream",
     "text": [
      "Model initialized successfully. Number of the trainable parameters: 1405162\n",
      "epoch 0: training loss 14.8269\n",
      "epoch 1: training loss 5.9858\n",
      "epoch 2: training loss 5.1322\n",
      "epoch 3: training loss 4.6708\n",
      "epoch 4: training loss 4.3655\n",
      "epoch 5: training loss 4.1065\n",
      "epoch 6: training loss 3.7990\n",
      "epoch 7: training loss 3.5471\n",
      "epoch 8: training loss 3.3275\n",
      "epoch 9: training loss 3.1584\n",
      "Finished training.\n"
     ]
    }
   ],
   "source": [
    "window_size = 20\n",
    "X_20, Y_20 = createWindows(train_X, train_Y, window_size)\n",
    "\n",
    "X_intact, X_orig, missing_mask, indicating_mask = mcar(X_20, 0.1)\n",
    "X_orig = masked_fill(X_orig, 1 - missing_mask, np.nan)\n",
    "saits = SAITS(n_steps=window_size, n_features=53, n_layers=2, d_model=256, d_inner=128, n_head=4, d_k=64, d_v=64, dropout=0.1, epochs=10)\n",
    "saits.fit(X_20)\n",
    "imputation = saits.impute(X_orig)\n",
    "mae = cal_mae(imputation, X_intact, indicating_mask)"
   ]
  },
  {
   "cell_type": "code",
   "execution_count": 34,
   "metadata": {},
   "outputs": [
    {
     "name": "stdout",
     "output_type": "stream",
     "text": [
      "Model initialized successfully. Number of the trainable parameters: 1405692\n",
      "epoch 0: training loss 18.2338\n",
      "epoch 1: training loss 6.7710\n",
      "epoch 2: training loss 5.6686\n",
      "epoch 3: training loss 5.0356\n",
      "epoch 4: training loss 4.6679\n",
      "epoch 5: training loss 4.3777\n",
      "epoch 6: training loss 4.1494\n",
      "epoch 7: training loss 3.9363\n",
      "epoch 8: training loss 3.7113\n",
      "epoch 9: training loss 3.5643\n",
      "Finished training.\n"
     ]
    }
   ],
   "source": [
    "window_size = 30\n",
    "X_30, Y_30 = createWindows(train_X, train_Y, window_size)\n",
    "\n",
    "X_intact, X_orig, missing_mask, indicating_mask = mcar(X_30, 0.1)\n",
    "X_orig = masked_fill(X_orig, 1 - missing_mask, np.nan)\n",
    "saits = SAITS(n_steps=window_size, n_features=53, n_layers=2, d_model=256, d_inner=128, n_head=4, d_k=64, d_v=64, dropout=0.1, epochs=10)\n",
    "saits.fit(X_30)\n",
    "imputation = saits.impute(X_orig)\n",
    "mae = cal_mae(imputation, X_intact, indicating_mask)"
   ]
  },
  {
   "cell_type": "code",
   "execution_count": 35,
   "metadata": {},
   "outputs": [
    {
     "name": "stdout",
     "output_type": "stream",
     "text": [
      "Model initialized successfully. Number of the trainable parameters: 1406222\n",
      "epoch 0: training loss 20.9394\n",
      "epoch 1: training loss 7.4371\n",
      "epoch 2: training loss 6.0412\n",
      "epoch 3: training loss 5.5004\n",
      "epoch 4: training loss 5.0947\n",
      "epoch 5: training loss 4.7933\n",
      "epoch 6: training loss 4.6129\n",
      "epoch 7: training loss 4.4165\n",
      "epoch 8: training loss 4.2578\n",
      "epoch 9: training loss 4.0934\n",
      "Finished training.\n"
     ]
    }
   ],
   "source": [
    "window_size = 40\n",
    "X_40, Y_40 = createWindows(train_X, train_Y, window_size)\n",
    "\n",
    "X_intact, X_orig, missing_mask, indicating_mask = mcar(X_40, 0.1)\n",
    "X_orig = masked_fill(X_orig, 1 - missing_mask, np.nan)\n",
    "saits = SAITS(n_steps=window_size, n_features=53, n_layers=2, d_model=256, d_inner=128, n_head=4, d_k=64, d_v=64, dropout=0.1, epochs=10)\n",
    "saits.fit(X_40)\n",
    "imputation = saits.impute(X_orig)\n",
    "mae = cal_mae(imputation, X_intact, indicating_mask)"
   ]
  },
  {
   "cell_type": "code",
   "execution_count": 36,
   "metadata": {},
   "outputs": [
    {
     "name": "stdout",
     "output_type": "stream",
     "text": [
      "Model initialized successfully. Number of the trainable parameters: 1406752\n",
      "epoch 0: training loss 24.2478\n",
      "epoch 1: training loss 8.3234\n",
      "epoch 2: training loss 6.6853\n",
      "epoch 3: training loss 5.8798\n",
      "epoch 4: training loss 5.4355\n",
      "epoch 5: training loss 5.1317\n",
      "epoch 6: training loss 4.8779\n",
      "epoch 7: training loss 4.7405\n",
      "epoch 8: training loss 4.5160\n",
      "epoch 9: training loss 4.3831\n",
      "Finished training.\n"
     ]
    }
   ],
   "source": [
    "window_size = 50\n",
    "X_50, Y_50 = createWindows(train_X, train_Y, window_size)\n",
    "\n",
    "X_intact, X_orig, missing_mask, indicating_mask = mcar(X_50, 0.1)\n",
    "X_orig = masked_fill(X_orig, 1 - missing_mask, np.nan)\n",
    "saits = SAITS(n_steps=window_size, n_features=53, n_layers=2, d_model=256, d_inner=128, n_head=4, d_k=64, d_v=64, dropout=0.1, epochs=10)\n",
    "saits.fit(X_50)\n",
    "imputation = saits.impute(X_orig)\n",
    "mae = cal_mae(imputation, X_intact, indicating_mask)"
   ]
  },
  {
   "cell_type": "code",
   "execution_count": 37,
   "metadata": {},
   "outputs": [
    {
     "name": "stdout",
     "output_type": "stream",
     "text": [
      "Model initialized successfully. Number of the trainable parameters: 1407282\n",
      "epoch 0: training loss 27.3470\n",
      "epoch 1: training loss 8.9560\n",
      "epoch 2: training loss 7.1739\n",
      "epoch 3: training loss 6.3090\n",
      "epoch 4: training loss 5.7179\n",
      "epoch 5: training loss 5.4112\n",
      "epoch 6: training loss 5.1134\n",
      "epoch 7: training loss 4.7778\n",
      "epoch 8: training loss 4.7364\n",
      "epoch 9: training loss 4.5764\n",
      "Finished training.\n"
     ]
    }
   ],
   "source": [
    "window_size = 60\n",
    "X_60, Y_60 = createWindows(train_X, train_Y, window_size)\n",
    "\n",
    "X_intact, X_orig, missing_mask, indicating_mask = mcar(X_60, 0.1)\n",
    "X_orig = masked_fill(X_orig, 1 - missing_mask, np.nan)\n",
    "saits = SAITS(n_steps=window_size, n_features=53, n_layers=2, d_model=256, d_inner=128, n_head=4, d_k=64, d_v=64, dropout=0.1, epochs=10)\n",
    "saits.fit(X_60)\n",
    "imputation = saits.impute(X_orig)\n",
    "mae = cal_mae(imputation, X_intact, indicating_mask)"
   ]
  },
  {
   "cell_type": "code",
   "execution_count": 38,
   "metadata": {},
   "outputs": [
    {
     "name": "stdout",
     "output_type": "stream",
     "text": [
      "Model initialized successfully. Number of the trainable parameters: 1407812\n",
      "epoch 0: training loss 30.8171\n",
      "epoch 1: training loss 9.4827\n",
      "epoch 2: training loss 7.5649\n",
      "epoch 3: training loss 6.6780\n",
      "epoch 4: training loss 6.1903\n",
      "epoch 5: training loss 5.7229\n",
      "epoch 6: training loss 5.3281\n",
      "epoch 7: training loss 5.2625\n",
      "epoch 8: training loss 5.0737\n",
      "epoch 9: training loss 5.0370\n",
      "Finished training.\n"
     ]
    }
   ],
   "source": [
    "window_size = 70\n",
    "X_70, Y_70 = createWindows(train_X, train_Y, window_size)\n",
    "\n",
    "X_intact, X_orig, missing_mask, indicating_mask = mcar(X_70, 0.1)\n",
    "X_orig = masked_fill(X_orig, 1 - missing_mask, np.nan)\n",
    "saits = SAITS(n_steps=window_size, n_features=53, n_layers=2, d_model=256, d_inner=128, n_head=4, d_k=64, d_v=64, dropout=0.1, epochs=10)\n",
    "saits.fit(X_70)\n",
    "imputation = saits.impute(X_orig)\n",
    "mae = cal_mae(imputation, X_intact, indicating_mask)"
   ]
  },
  {
   "cell_type": "code",
   "execution_count": 39,
   "metadata": {},
   "outputs": [
    {
     "name": "stdout",
     "output_type": "stream",
     "text": [
      "Model initialized successfully. Number of the trainable parameters: 1408342\n",
      "epoch 0: training loss 34.5069\n",
      "epoch 1: training loss 10.3354\n",
      "epoch 2: training loss 8.1908\n",
      "epoch 3: training loss 7.3095\n",
      "epoch 4: training loss 6.6383\n",
      "epoch 5: training loss 6.0060\n",
      "epoch 6: training loss 5.6638\n",
      "epoch 7: training loss 5.2900\n",
      "epoch 8: training loss 5.0518\n",
      "epoch 9: training loss 4.9042\n",
      "Finished training.\n"
     ]
    }
   ],
   "source": [
    "window_size = 80\n",
    "X_80, Y_80 = createWindows(train_X, train_Y, window_size)\n",
    "\n",
    "X_intact, X_orig, missing_mask, indicating_mask = mcar(X_80, 0.1)\n",
    "X_orig = masked_fill(X_orig, 1 - missing_mask, np.nan)\n",
    "saits = SAITS(n_steps=window_size, n_features=53, n_layers=2, d_model=256, d_inner=128, n_head=4, d_k=64, d_v=64, dropout=0.1, epochs=10)\n",
    "saits.fit(X_80)\n",
    "imputation = saits.impute(X_orig)\n",
    "mae = cal_mae(imputation, X_intact, indicating_mask)"
   ]
  },
  {
   "cell_type": "code",
   "execution_count": 40,
   "metadata": {},
   "outputs": [
    {
     "name": "stdout",
     "output_type": "stream",
     "text": [
      "Model initialized successfully. Number of the trainable parameters: 1410886\n",
      "epoch 0: training loss 44.6776\n",
      "epoch 1: training loss 14.0990\n",
      "epoch 2: training loss 9.9835\n",
      "epoch 3: training loss 8.4818\n",
      "epoch 4: training loss 7.6806\n",
      "epoch 5: training loss 7.1737\n",
      "epoch 6: training loss 6.8512\n",
      "epoch 7: training loss 6.4043\n",
      "epoch 8: training loss 6.1718\n",
      "epoch 9: training loss 5.8073\n",
      "Finished training.\n"
     ]
    }
   ],
   "source": [
    "window_size = 128\n",
    "X_128, Y_128 = createWindows(train_X, train_Y, window_size)\n",
    "\n",
    "X_intact, X_orig, missing_mask, indicating_mask = mcar(X_128, 0.1)\n",
    "X_orig = masked_fill(X_orig, 1 - missing_mask, np.nan)\n",
    "saits = SAITS(n_steps=window_size, n_features=53, n_layers=2, d_model=256, d_inner=128, n_head=4, d_k=64, d_v=64, dropout=0.1, epochs=10)\n",
    "saits.fit(X_128)\n",
    "imputation = saits.impute(X_orig)\n",
    "mae = cal_mae(imputation, X_intact, indicating_mask)"
   ]
  },
  {
   "cell_type": "code",
   "execution_count": 41,
   "metadata": {},
   "outputs": [
    {
     "name": "stdout",
     "output_type": "stream",
     "text": [
      "Model initialized successfully. Number of the trainable parameters: 1425302\n",
      "epoch 0: training loss 74.4982\n",
      "epoch 1: training loss 33.8649\n",
      "epoch 2: training loss 25.4934\n",
      "epoch 3: training loss 18.0166\n",
      "epoch 4: training loss 13.5391\n",
      "epoch 5: training loss 11.8978\n",
      "epoch 6: training loss 10.8365\n",
      "epoch 7: training loss 10.1673\n",
      "epoch 8: training loss 9.5291\n",
      "epoch 9: training loss 9.5897\n",
      "Finished training.\n"
     ]
    }
   ],
   "source": [
    "window_size = 400\n",
    "X_400, Y_400 = createWindows(train_X, train_Y, window_size)\n",
    "\n",
    "X_intact, X_orig, missing_mask, indicating_mask = mcar(X_400, 0.1)\n",
    "X_orig = masked_fill(X_orig, 1 - missing_mask, np.nan)\n",
    "saits = SAITS(n_steps=window_size, n_features=53, n_layers=2, d_model=256, d_inner=128, n_head=4, d_k=64, d_v=64, dropout=0.1, epochs=10)\n",
    "saits.fit(X_400)\n",
    "imputation = saits.impute(X_orig)\n",
    "mae = cal_mae(imputation, X_intact, indicating_mask)"
   ]
  }
 ],
 "metadata": {
  "interpreter": {
   "hash": "85eab4bc6c6c5de8d8c9b73424489217eb3ac6fe3bc76caf6b2eb1d4f520884f"
  },
  "kernelspec": {
   "display_name": "Python 3.9.12 ('tf')",
   "language": "python",
   "name": "python3"
  },
  "language_info": {
   "codemirror_mode": {
    "name": "ipython",
    "version": 3
   },
   "file_extension": ".py",
   "mimetype": "text/x-python",
   "name": "python",
   "nbconvert_exporter": "python",
   "pygments_lexer": "ipython3",
   "version": "3.9.12"
  },
  "orig_nbformat": 4
 },
 "nbformat": 4,
 "nbformat_minor": 2
}
