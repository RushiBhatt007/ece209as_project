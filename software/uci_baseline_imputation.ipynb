{
 "cells": [
  {
   "cell_type": "code",
   "execution_count": 1,
   "metadata": {},
   "outputs": [],
   "source": [
    "import simulate\n",
    "import baseline\n",
    "import dataload\n",
    "import numpy as np\n",
    "import pandas as pd\n",
    "from sklearn.preprocessing import StandardScaler\n",
    "#import pypots\n",
    "from pypots.data import load_specific_dataset, mcar, masked_fill\n",
    "from pypots.imputation import SAITS, BRITS\n",
    "from pypots.utils.metrics import cal_mae, cal_rmse, cal_mre"
   ]
  },
  {
   "cell_type": "markdown",
   "metadata": {},
   "source": [
    "# UCI HAR"
   ]
  },
  {
   "cell_type": "code",
   "execution_count": 2,
   "metadata": {},
   "outputs": [
    {
     "name": "stdout",
     "output_type": "stream",
     "text": [
      "File Path :  D:/GitHub/ece209as_project/data/UCI_HAR_Dataset/train/Inertial_Signals/\n",
      "File Path :  D:/GitHub/ece209as_project/data/UCI_HAR_Dataset/test/Inertial_Signals/\n"
     ]
    }
   ],
   "source": [
    "dict = dataload.uci()\n",
    "X = dict[\"X\"]\n",
    "y = dict[\"y\"]"
   ]
  },
  {
   "cell_type": "code",
   "execution_count": 3,
   "metadata": {},
   "outputs": [],
   "source": [
    "# MCAR\n",
    "dict_MCAR = simulate.simulate_nan(X, 0.1, \"MCAR\")\n",
    "X_intact_MCAR = dict_MCAR['X_init']\n",
    "X_missing_MCAR = dict_MCAR['X_incomp']\n",
    "X_mask_MCAR = dict_MCAR['mask']\n",
    "\n",
    "# MAR - logistic\n",
    "dict_MAR = simulate.simulate_nan(X, 0.1, \"MAR\")\n",
    "X_intact_MAR = dict_MAR['X_init']\n",
    "X_missing_MAR = dict_MAR['X_incomp']\n",
    "X_mask_MAR = dict_MAR['mask']\n",
    "\n",
    "# MNAR - logistic\n",
    "dict_MAR = simulate.simulate_nan(X, 0.1, \"MNAR\", opt=\"logistic\")\n",
    "X_intact_MNAR = dict_MAR['X_init']\n",
    "X_missing_MNAR = dict_MAR['X_incomp']\n",
    "X_mask_MNAR = dict_MAR['mask']\n",
    "\n",
    "X_intact = [X_intact_MCAR, X_intact_MAR, X_intact_MNAR]\n",
    "X_missing = [X_missing_MCAR, X_missing_MAR, X_missing_MNAR]\n",
    "X_mask = [X_mask_MCAR, X_mask_MAR, X_mask_MNAR]\n",
    "missingness = [\"MCAR\", \"MAR\", \"MNAR\"]"
   ]
  },
  {
   "cell_type": "code",
   "execution_count": 4,
   "metadata": {},
   "outputs": [],
   "source": [
    "result_uci_imputation = []"
   ]
  },
  {
   "cell_type": "code",
   "execution_count": 5,
   "metadata": {},
   "outputs": [],
   "source": [
    "# Zero-filling imputation\n",
    "res = []\n",
    "for i in range(3):\n",
    "    X_zero_imputed = baseline.zero_filling_imputation(X_missing[i])\n",
    "    res.append(cal_mae(X_intact[i], X_zero_imputed, X_mask[i]))\n",
    "    res.append(cal_rmse(X_intact[i], X_zero_imputed, X_mask[i]))\n",
    "    res.append(cal_mre(X_intact[i], X_zero_imputed, X_mask[i]))\n",
    "\n",
    "result_uci_imputation.append(res)"
   ]
  },
  {
   "cell_type": "code",
   "execution_count": 6,
   "metadata": {},
   "outputs": [],
   "source": [
    "# Mean imputation\n",
    "res = []\n",
    "\n",
    "for i in range(3):\n",
    "    X_mean_imputed = baseline.mean_imputation(X_missing[i])\n",
    "    res.append(cal_mae(X_intact[i], X_mean_imputed, X_mask[i]))\n",
    "    res.append(cal_rmse(X_intact[i], X_mean_imputed, X_mask[i]))\n",
    "    res.append(cal_mre(X_intact[i], X_mean_imputed, X_mask[i]))\n",
    "\n",
    "result_uci_imputation.append(res)"
   ]
  },
  {
   "cell_type": "code",
   "execution_count": 7,
   "metadata": {},
   "outputs": [],
   "source": [
    "# Median imputation\n",
    "res = []\n",
    "\n",
    "for i in range(3):\n",
    "    X_median_imputed = baseline.median_imputation(X_missing[i])\n",
    "    res.append(cal_mae(X_intact[i], X_median_imputed, X_mask[i]))\n",
    "    res.append(cal_rmse(X_intact[i], X_median_imputed, X_mask[i]))\n",
    "    res.append(cal_mre(X_intact[i], X_median_imputed, X_mask[i]))\n",
    "\n",
    "result_uci_imputation.append(res)"
   ]
  },
  {
   "cell_type": "code",
   "execution_count": null,
   "metadata": {},
   "outputs": [],
   "source": [
    "# BRITS\n",
    "\n",
    "res = []\n",
    "\n",
    "for i in range(3):\n",
    "    brits = BRITS(n_steps=128, n_features=9,rnn_hidden_size=4, epochs=20)\n",
    "    brits.fit(X_missing[i])\n",
    "    imputation = brits.impute(X_missing[i])\n",
    "    res.append(cal_mae(imputation, X_intact[i], X_mask[i]))\n",
    "    res.append(cal_rmse(imputation, X_intact[i], X_mask[i]))\n",
    "    res.append(cal_mre(imputation, X_intact[i], X_mask[i]))\n",
    "\n",
    "result_uci_imputation.append(res)"
   ]
  },
  {
   "cell_type": "code",
   "execution_count": 9,
   "metadata": {},
   "outputs": [],
   "source": [
    "errors = [\"mae\", \"rmse\", \"mre\"]\n",
    "cols = []\n",
    "\n",
    "for i in missingness:\n",
    "    for j in errors:\n",
    "        cols.append(i+\" \"+j)\n",
    "\n",
    "methods = [\"zero-filling imputation\", \"mean imputation\", \"median imputation\", \"BRITS\"]\n",
    "result_uci_imputation = pd.DataFrame(result_uci_imputation, columns = cols, index=methods)"
   ]
  },
  {
   "cell_type": "code",
   "execution_count": 10,
   "metadata": {},
   "outputs": [
    {
     "data": {
      "text/html": [
       "<div>\n",
       "<style scoped>\n",
       "    .dataframe tbody tr th:only-of-type {\n",
       "        vertical-align: middle;\n",
       "    }\n",
       "\n",
       "    .dataframe tbody tr th {\n",
       "        vertical-align: top;\n",
       "    }\n",
       "\n",
       "    .dataframe thead th {\n",
       "        text-align: right;\n",
       "    }\n",
       "</style>\n",
       "<table border=\"1\" class=\"dataframe\">\n",
       "  <thead>\n",
       "    <tr style=\"text-align: right;\">\n",
       "      <th></th>\n",
       "      <th>MCAR mae</th>\n",
       "      <th>MCAR rmse</th>\n",
       "      <th>MCAR mre</th>\n",
       "      <th>MAR mae</th>\n",
       "      <th>MAR rmse</th>\n",
       "      <th>MAR mre</th>\n",
       "      <th>MNAR mae</th>\n",
       "      <th>MNAR rmse</th>\n",
       "      <th>MNAR mre</th>\n",
       "    </tr>\n",
       "  </thead>\n",
       "  <tbody>\n",
       "    <tr>\n",
       "      <th>zero-filling imputation</th>\n",
       "      <td>0.242178</td>\n",
       "      <td>0.413517</td>\n",
       "      <td>2.869730e+14</td>\n",
       "      <td>0.241268</td>\n",
       "      <td>0.412009</td>\n",
       "      <td>2.865158e+14</td>\n",
       "      <td>0.241828</td>\n",
       "      <td>0.413479</td>\n",
       "      <td>2.865301e+14</td>\n",
       "    </tr>\n",
       "    <tr>\n",
       "      <th>mean imputation</th>\n",
       "      <td>0.777366</td>\n",
       "      <td>0.898209</td>\n",
       "      <td>9.491571e-01</td>\n",
       "      <td>0.777086</td>\n",
       "      <td>0.897553</td>\n",
       "      <td>9.488416e-01</td>\n",
       "      <td>0.775993</td>\n",
       "      <td>0.897156</td>\n",
       "      <td>9.480133e-01</td>\n",
       "    </tr>\n",
       "    <tr>\n",
       "      <th>median imputation</th>\n",
       "      <td>0.756448</td>\n",
       "      <td>0.875055</td>\n",
       "      <td>9.514530e-01</td>\n",
       "      <td>0.756012</td>\n",
       "      <td>0.874249</td>\n",
       "      <td>9.511194e-01</td>\n",
       "      <td>0.755060</td>\n",
       "      <td>0.873975</td>\n",
       "      <td>9.502740e-01</td>\n",
       "    </tr>\n",
       "    <tr>\n",
       "      <th>BRITS</th>\n",
       "      <td>0.123852</td>\n",
       "      <td>0.221070</td>\n",
       "      <td>5.114092e-01</td>\n",
       "      <td>0.128857</td>\n",
       "      <td>0.225485</td>\n",
       "      <td>5.340805e-01</td>\n",
       "      <td>0.123321</td>\n",
       "      <td>0.217309</td>\n",
       "      <td>5.099554e-01</td>\n",
       "    </tr>\n",
       "  </tbody>\n",
       "</table>\n",
       "</div>"
      ],
      "text/plain": [
       "                         MCAR mae  MCAR rmse      MCAR mre   MAR mae  \\\n",
       "zero-filling imputation  0.242178   0.413517  2.869730e+14  0.241268   \n",
       "mean imputation          0.777366   0.898209  9.491571e-01  0.777086   \n",
       "median imputation        0.756448   0.875055  9.514530e-01  0.756012   \n",
       "BRITS                    0.123852   0.221070  5.114092e-01  0.128857   \n",
       "\n",
       "                         MAR rmse       MAR mre  MNAR mae  MNAR rmse  \\\n",
       "zero-filling imputation  0.412009  2.865158e+14  0.241828   0.413479   \n",
       "mean imputation          0.897553  9.488416e-01  0.775993   0.897156   \n",
       "median imputation        0.874249  9.511194e-01  0.755060   0.873975   \n",
       "BRITS                    0.225485  5.340805e-01  0.123321   0.217309   \n",
       "\n",
       "                             MNAR mre  \n",
       "zero-filling imputation  2.865301e+14  \n",
       "mean imputation          9.480133e-01  \n",
       "median imputation        9.502740e-01  \n",
       "BRITS                    5.099554e-01  "
      ]
     },
     "execution_count": 10,
     "metadata": {},
     "output_type": "execute_result"
    }
   ],
   "source": [
    "result_uci_imputation"
   ]
  }
 ],
 "metadata": {
  "interpreter": {
   "hash": "85eab4bc6c6c5de8d8c9b73424489217eb3ac6fe3bc76caf6b2eb1d4f520884f"
  },
  "kernelspec": {
   "display_name": "Python 3.9.12 ('tf')",
   "language": "python",
   "name": "python3"
  },
  "language_info": {
   "codemirror_mode": {
    "name": "ipython",
    "version": 3
   },
   "file_extension": ".py",
   "mimetype": "text/x-python",
   "name": "python",
   "nbconvert_exporter": "python",
   "pygments_lexer": "ipython3",
   "version": "3.9.12"
  },
  "orig_nbformat": 4
 },
 "nbformat": 4,
 "nbformat_minor": 2
}
