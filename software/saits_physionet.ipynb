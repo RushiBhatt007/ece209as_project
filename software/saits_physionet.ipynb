{
 "cells": [
  {
   "cell_type": "code",
   "execution_count": 21,
   "metadata": {},
   "outputs": [
    {
     "ename": "ImportError",
     "evalue": "cannot import name 'load_specific_dataset' from 'tsdb' (c:\\Users\\RUSHI\\Anaconda Python\\envs\\fresh\\lib\\site-packages\\tsdb\\__init__.py)",
     "output_type": "error",
     "traceback": [
      "\u001b[1;31m---------------------------------------------------------------------------\u001b[0m",
      "\u001b[1;31mImportError\u001b[0m                               Traceback (most recent call last)",
      "\u001b[1;32md:\\GitHub\\ece209as_project\\software\\saits_physionet.ipynb Cell 1'\u001b[0m in \u001b[0;36m<cell line: 4>\u001b[1;34m()\u001b[0m\n\u001b[0;32m      <a href='vscode-notebook-cell:/d%3A/GitHub/ece209as_project/software/saits_physionet.ipynb#ch0000000?line=1'>2</a>\u001b[0m \u001b[39mfrom\u001b[39;00m \u001b[39msklearn\u001b[39;00m\u001b[39m.\u001b[39;00m\u001b[39mpreprocessing\u001b[39;00m \u001b[39mimport\u001b[39;00m StandardScaler\n\u001b[0;32m      <a href='vscode-notebook-cell:/d%3A/GitHub/ece209as_project/software/saits_physionet.ipynb#ch0000000?line=2'>3</a>\u001b[0m \u001b[39m#import pypots\u001b[39;00m\n\u001b[1;32m----> <a href='vscode-notebook-cell:/d%3A/GitHub/ece209as_project/software/saits_physionet.ipynb#ch0000000?line=3'>4</a>\u001b[0m \u001b[39mfrom\u001b[39;00m \u001b[39mpypots\u001b[39;00m\u001b[39m.\u001b[39;00m\u001b[39mdata\u001b[39;00m \u001b[39mimport\u001b[39;00m load_specific_dataset, mcar, masked_fill\n\u001b[0;32m      <a href='vscode-notebook-cell:/d%3A/GitHub/ece209as_project/software/saits_physionet.ipynb#ch0000000?line=4'>5</a>\u001b[0m \u001b[39mfrom\u001b[39;00m \u001b[39mpypots\u001b[39;00m\u001b[39m.\u001b[39;00m\u001b[39mimputation\u001b[39;00m \u001b[39mimport\u001b[39;00m SAITS\n\u001b[0;32m      <a href='vscode-notebook-cell:/d%3A/GitHub/ece209as_project/software/saits_physionet.ipynb#ch0000000?line=5'>6</a>\u001b[0m \u001b[39mfrom\u001b[39;00m \u001b[39mpypots\u001b[39;00m\u001b[39m.\u001b[39;00m\u001b[39mutils\u001b[39;00m\u001b[39m.\u001b[39;00m\u001b[39mmetrics\u001b[39;00m \u001b[39mimport\u001b[39;00m cal_mae\n",
      "File \u001b[1;32mc:\\Users\\RUSHI\\Anaconda Python\\envs\\fresh\\lib\\site-packages\\pypots\\__init__.py:9\u001b[0m, in \u001b[0;36m<module>\u001b[1;34m\u001b[0m\n\u001b[0;32m      <a href='file:///c%3A/Users/RUSHI/Anaconda%20Python/envs/fresh/lib/site-packages/pypots/__init__.py?line=0'>1</a>\u001b[0m \u001b[39m\"\"\"\u001b[39;00m\n\u001b[0;32m      <a href='file:///c%3A/Users/RUSHI/Anaconda%20Python/envs/fresh/lib/site-packages/pypots/__init__.py?line=1'>2</a>\u001b[0m \u001b[39mPyPOTS package.\u001b[39;00m\n\u001b[0;32m      <a href='file:///c%3A/Users/RUSHI/Anaconda%20Python/envs/fresh/lib/site-packages/pypots/__init__.py?line=2'>3</a>\u001b[0m \u001b[39m\"\"\"\u001b[39;00m\n\u001b[0;32m      <a href='file:///c%3A/Users/RUSHI/Anaconda%20Python/envs/fresh/lib/site-packages/pypots/__init__.py?line=4'>5</a>\u001b[0m \u001b[39m# Created by Wenjie Du <wenjay.du@gmail.com>\u001b[39;00m\n\u001b[0;32m      <a href='file:///c%3A/Users/RUSHI/Anaconda%20Python/envs/fresh/lib/site-packages/pypots/__init__.py?line=5'>6</a>\u001b[0m \u001b[39m# License: GPL-v3\u001b[39;00m\n\u001b[1;32m----> <a href='file:///c%3A/Users/RUSHI/Anaconda%20Python/envs/fresh/lib/site-packages/pypots/__init__.py?line=8'>9</a>\u001b[0m \u001b[39mfrom\u001b[39;00m \u001b[39m.\u001b[39;00m \u001b[39mimport\u001b[39;00m data\n\u001b[0;32m     <a href='file:///c%3A/Users/RUSHI/Anaconda%20Python/envs/fresh/lib/site-packages/pypots/__init__.py?line=9'>10</a>\u001b[0m \u001b[39mfrom\u001b[39;00m \u001b[39m.\u001b[39;00m \u001b[39mimport\u001b[39;00m imputation\n\u001b[0;32m     <a href='file:///c%3A/Users/RUSHI/Anaconda%20Python/envs/fresh/lib/site-packages/pypots/__init__.py?line=10'>11</a>\u001b[0m \u001b[39mfrom\u001b[39;00m \u001b[39m.\u001b[39;00m \u001b[39mimport\u001b[39;00m utils\n",
      "File \u001b[1;32mc:\\Users\\RUSHI\\Anaconda Python\\envs\\fresh\\lib\\site-packages\\pypots\\data\\__init__.py:14\u001b[0m, in \u001b[0;36m<module>\u001b[1;34m\u001b[0m\n\u001b[0;32m      <a href='file:///c%3A/Users/RUSHI/Anaconda%20Python/envs/fresh/lib/site-packages/pypots/data/__init__.py?line=7'>8</a>\u001b[0m \u001b[39mfrom\u001b[39;00m \u001b[39m.\u001b[39;00m\u001b[39mbase\u001b[39;00m \u001b[39mimport\u001b[39;00m (\n\u001b[0;32m      <a href='file:///c%3A/Users/RUSHI/Anaconda%20Python/envs/fresh/lib/site-packages/pypots/data/__init__.py?line=8'>9</a>\u001b[0m     BaseDataset,\n\u001b[0;32m     <a href='file:///c%3A/Users/RUSHI/Anaconda%20Python/envs/fresh/lib/site-packages/pypots/data/__init__.py?line=9'>10</a>\u001b[0m     DatasetForBRITS,\n\u001b[0;32m     <a href='file:///c%3A/Users/RUSHI/Anaconda%20Python/envs/fresh/lib/site-packages/pypots/data/__init__.py?line=10'>11</a>\u001b[0m     DatasetForMIT,\n\u001b[0;32m     <a href='file:///c%3A/Users/RUSHI/Anaconda%20Python/envs/fresh/lib/site-packages/pypots/data/__init__.py?line=11'>12</a>\u001b[0m )\n\u001b[0;32m     <a href='file:///c%3A/Users/RUSHI/Anaconda%20Python/envs/fresh/lib/site-packages/pypots/data/__init__.py?line=12'>13</a>\u001b[0m \u001b[39mfrom\u001b[39;00m \u001b[39m.\u001b[39;00m\u001b[39mgenerating\u001b[39;00m \u001b[39mimport\u001b[39;00m generate_random_walk, generate_random_walk_for_classification\n\u001b[1;32m---> <a href='file:///c%3A/Users/RUSHI/Anaconda%20Python/envs/fresh/lib/site-packages/pypots/data/__init__.py?line=13'>14</a>\u001b[0m \u001b[39mfrom\u001b[39;00m \u001b[39m.\u001b[39;00m\u001b[39mintegration\u001b[39;00m \u001b[39mimport\u001b[39;00m (\n\u001b[0;32m     <a href='file:///c%3A/Users/RUSHI/Anaconda%20Python/envs/fresh/lib/site-packages/pypots/data/__init__.py?line=14'>15</a>\u001b[0m     fill_nan_with_mask,\n\u001b[0;32m     <a href='file:///c%3A/Users/RUSHI/Anaconda%20Python/envs/fresh/lib/site-packages/pypots/data/__init__.py?line=15'>16</a>\u001b[0m     mcar,\n\u001b[0;32m     <a href='file:///c%3A/Users/RUSHI/Anaconda%20Python/envs/fresh/lib/site-packages/pypots/data/__init__.py?line=16'>17</a>\u001b[0m     load_specific_dataset,\n\u001b[0;32m     <a href='file:///c%3A/Users/RUSHI/Anaconda%20Python/envs/fresh/lib/site-packages/pypots/data/__init__.py?line=17'>18</a>\u001b[0m     list_available_datasets,\n\u001b[0;32m     <a href='file:///c%3A/Users/RUSHI/Anaconda%20Python/envs/fresh/lib/site-packages/pypots/data/__init__.py?line=18'>19</a>\u001b[0m )\n",
      "File \u001b[1;32mc:\\Users\\RUSHI\\Anaconda Python\\envs\\fresh\\lib\\site-packages\\pypots\\data\\integration.py:10\u001b[0m, in \u001b[0;36m<module>\u001b[1;34m\u001b[0m\n\u001b[0;32m      <a href='file:///c%3A/Users/RUSHI/Anaconda%20Python/envs/fresh/lib/site-packages/pypots/data/integration.py?line=4'>5</a>\u001b[0m \u001b[39m# Created by Wenjie Du <wenjay.du@gmail.com>\u001b[39;00m\n\u001b[0;32m      <a href='file:///c%3A/Users/RUSHI/Anaconda%20Python/envs/fresh/lib/site-packages/pypots/data/integration.py?line=5'>6</a>\u001b[0m \u001b[39m# License: GLP-v3\u001b[39;00m\n\u001b[0;32m      <a href='file:///c%3A/Users/RUSHI/Anaconda%20Python/envs/fresh/lib/site-packages/pypots/data/integration.py?line=8'>9</a>\u001b[0m \u001b[39mimport\u001b[39;00m \u001b[39mpycorruptor\u001b[39;00m \u001b[39mas\u001b[39;00m \u001b[39mcorruptor\u001b[39;00m\n\u001b[1;32m---> <a href='file:///c%3A/Users/RUSHI/Anaconda%20Python/envs/fresh/lib/site-packages/pypots/data/integration.py?line=9'>10</a>\u001b[0m \u001b[39mfrom\u001b[39;00m \u001b[39mtsdb\u001b[39;00m \u001b[39mimport\u001b[39;00m (\n\u001b[0;32m     <a href='file:///c%3A/Users/RUSHI/Anaconda%20Python/envs/fresh/lib/site-packages/pypots/data/integration.py?line=10'>11</a>\u001b[0m     load_specific_dataset \u001b[39mas\u001b[39;00m _load_specific_dataset,\n\u001b[0;32m     <a href='file:///c%3A/Users/RUSHI/Anaconda%20Python/envs/fresh/lib/site-packages/pypots/data/integration.py?line=11'>12</a>\u001b[0m     CACHED_DATASET_DIR \u001b[39mas\u001b[39;00m _CACHED_DATASET_DIR,\n\u001b[0;32m     <a href='file:///c%3A/Users/RUSHI/Anaconda%20Python/envs/fresh/lib/site-packages/pypots/data/integration.py?line=12'>13</a>\u001b[0m     list_available_datasets \u001b[39mas\u001b[39;00m _list_available_datasets,\n\u001b[0;32m     <a href='file:///c%3A/Users/RUSHI/Anaconda%20Python/envs/fresh/lib/site-packages/pypots/data/integration.py?line=13'>14</a>\u001b[0m     list_database \u001b[39mas\u001b[39;00m _list_database,\n\u001b[0;32m     <a href='file:///c%3A/Users/RUSHI/Anaconda%20Python/envs/fresh/lib/site-packages/pypots/data/integration.py?line=14'>15</a>\u001b[0m     list_cached_data \u001b[39mas\u001b[39;00m _list_cached_data,\n\u001b[0;32m     <a href='file:///c%3A/Users/RUSHI/Anaconda%20Python/envs/fresh/lib/site-packages/pypots/data/integration.py?line=15'>16</a>\u001b[0m     delete_cached_data \u001b[39mas\u001b[39;00m _delete_cached_data,\n\u001b[0;32m     <a href='file:///c%3A/Users/RUSHI/Anaconda%20Python/envs/fresh/lib/site-packages/pypots/data/integration.py?line=16'>17</a>\u001b[0m     pickle_load \u001b[39mas\u001b[39;00m _pickle_load,\n\u001b[0;32m     <a href='file:///c%3A/Users/RUSHI/Anaconda%20Python/envs/fresh/lib/site-packages/pypots/data/integration.py?line=17'>18</a>\u001b[0m     pickle_dump \u001b[39mas\u001b[39;00m _pickle_dump,\n\u001b[0;32m     <a href='file:///c%3A/Users/RUSHI/Anaconda%20Python/envs/fresh/lib/site-packages/pypots/data/integration.py?line=18'>19</a>\u001b[0m )\n\u001b[0;32m     <a href='file:///c%3A/Users/RUSHI/Anaconda%20Python/envs/fresh/lib/site-packages/pypots/data/integration.py?line=20'>21</a>\u001b[0m CACHED_DATASET_DIR \u001b[39m=\u001b[39m _CACHED_DATASET_DIR\n\u001b[0;32m     <a href='file:///c%3A/Users/RUSHI/Anaconda%20Python/envs/fresh/lib/site-packages/pypots/data/integration.py?line=21'>22</a>\u001b[0m list_database \u001b[39m=\u001b[39m _list_database\n",
      "\u001b[1;31mImportError\u001b[0m: cannot import name 'load_specific_dataset' from 'tsdb' (c:\\Users\\RUSHI\\Anaconda Python\\envs\\fresh\\lib\\site-packages\\tsdb\\__init__.py)"
     ]
    }
   ],
   "source": [
    "import numpy as np\n",
    "from sklearn.preprocessing import StandardScaler\n",
    "#import pypots\n",
    "from pypots.data import load_specific_dataset, mcar, masked_fill\n",
    "from pypots.imputation import SAITS\n",
    "from pypots.utils.metrics import cal_mae"
   ]
  },
  {
   "cell_type": "code",
   "execution_count": 20,
   "metadata": {},
   "outputs": [
    {
     "name": "stdout",
     "output_type": "stream",
     "text": [
      "Requirement already satisfied: tsdb==0.0.7 in c:\\users\\rushi\\anaconda python\\envs\\fresh\\lib\\site-packages (0.0.7)\n",
      "Requirement already satisfied: scikit-learn in c:\\users\\rushi\\anaconda python\\envs\\fresh\\lib\\site-packages (from tsdb==0.0.7) (1.1.1)\n",
      "Requirement already satisfied: scipy in c:\\users\\rushi\\anaconda python\\envs\\fresh\\lib\\site-packages (from tsdb==0.0.7) (1.8.1)\n",
      "Requirement already satisfied: pandas in c:\\users\\rushi\\anaconda python\\envs\\fresh\\lib\\site-packages (from tsdb==0.0.7) (1.4.2)\n",
      "Requirement already satisfied: numpy in c:\\users\\rushi\\anaconda python\\envs\\fresh\\lib\\site-packages (from tsdb==0.0.7) (1.22.4)\n",
      "Requirement already satisfied: python-dateutil>=2.8.1 in c:\\users\\rushi\\anaconda python\\envs\\fresh\\lib\\site-packages (from pandas->tsdb==0.0.7) (2.8.2)\n",
      "Requirement already satisfied: pytz>=2020.1 in c:\\users\\rushi\\anaconda python\\envs\\fresh\\lib\\site-packages (from pandas->tsdb==0.0.7) (2022.1)\n",
      "Requirement already satisfied: six>=1.5 in c:\\users\\rushi\\anaconda python\\envs\\fresh\\lib\\site-packages (from python-dateutil>=2.8.1->pandas->tsdb==0.0.7) (1.16.0)\n",
      "Requirement already satisfied: joblib>=1.0.0 in c:\\users\\rushi\\anaconda python\\envs\\fresh\\lib\\site-packages (from scikit-learn->tsdb==0.0.7) (1.1.0)\n",
      "Requirement already satisfied: threadpoolctl>=2.0.0 in c:\\users\\rushi\\anaconda python\\envs\\fresh\\lib\\site-packages (from scikit-learn->tsdb==0.0.7) (3.1.0)\n"
     ]
    }
   ],
   "source": [
    "!pip install tsdb==0.0.7"
   ]
  },
  {
   "cell_type": "code",
   "execution_count": 2,
   "metadata": {},
   "outputs": [
    {
     "name": "stdout",
     "output_type": "stream",
     "text": [
      "1.10.2+cpu\n"
     ]
    }
   ],
   "source": [
    "import torch\n",
    "print(torch.__version__)"
   ]
  },
  {
   "cell_type": "code",
   "execution_count": null,
   "metadata": {},
   "outputs": [],
   "source": [
    "# Data preprocessing. Tedious, but PyPOTS can help. 🤓\n",
    "data = load_specific_dataset('physionet_2012')  # For datasets in PyPOTS database, PyPOTS will automatically download and extract it.\n",
    "X = data['X']\n",
    "num_samples = len(X['RecordID'].unique())\n",
    "X = X.drop('RecordID', axis = 1)\n",
    "X = StandardScaler().fit_transform(X.to_numpy())\n",
    "X = X.reshape(num_samples, 48, -1)\n",
    "X_intact, X, missing_mask, indicating_mask = mcar(X, 0.1) # hold out 10% observed values as ground truth\n",
    "X = masked_fill(X, 1 - missing_mask, np.nan)\n",
    "# Model training. This is PyPOTS showtime. 💪\n",
    "saits = SAITS(n_steps=48, n_features=37, n_layers=2, d_model=256, d_inner=128, n_head=4, d_k=64, d_v=64, dropout=0.1, epochs=10)\n",
    "saits.fit(X)  # train the model. Here I use the whole dataset as the training set, because ground truth is not visible to the model.\n",
    "imputation = saits.impute(X)  # impute the originally-missing values and artificially-missing values\n",
    "mae = cal_mae(imputation, X_intact, indicating_mask)  # calculate mean absolute error on the ground truth (artificially-missing values)"
   ]
  }
 ],
 "metadata": {
  "interpreter": {
   "hash": "591008484e47ae3dd3c6a5fdb1cbf9704863c03facd894813e403e48cb28313d"
  },
  "kernelspec": {
   "display_name": "Python 3.8.13 ('fresh')",
   "language": "python",
   "name": "python3"
  },
  "language_info": {
   "codemirror_mode": {
    "name": "ipython",
    "version": 3
   },
   "file_extension": ".py",
   "mimetype": "text/x-python",
   "name": "python",
   "nbconvert_exporter": "python",
   "pygments_lexer": "ipython3",
   "version": "3.8.13"
  },
  "orig_nbformat": 4
 },
 "nbformat": 4,
 "nbformat_minor": 2
}
