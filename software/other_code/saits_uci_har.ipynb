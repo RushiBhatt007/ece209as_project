{
 "cells": [
  {
   "cell_type": "code",
   "execution_count": 1,
   "metadata": {},
   "outputs": [
    {
     "name": "stderr",
     "output_type": "stream",
     "text": [
      "c:\\Users\\RUSHI\\anaconda3\\envs\\tf\\lib\\site-packages\\tqdm\\auto.py:22: TqdmWarning: IProgress not found. Please update jupyter and ipywidgets. See https://ipywidgets.readthedocs.io/en/stable/user_install.html\n",
      "  from .autonotebook import tqdm as notebook_tqdm\n"
     ]
    }
   ],
   "source": [
    "import numpy as np\n",
    "import pandas as pd\n",
    "from sklearn.preprocessing import StandardScaler\n",
    "#import pypots\n",
    "from pypots.data import load_specific_dataset, mcar, masked_fill\n",
    "from pypots.imputation import SAITS\n",
    "from pypots.utils.metrics import cal_mae"
   ]
  },
  {
   "cell_type": "code",
   "execution_count": 7,
   "metadata": {},
   "outputs": [],
   "source": [
    "train_directory = \"D:/GitHub/ece209as_project/data/UCI_HAR_Dataset/train/Inertial_Signals/\"\n",
    "\n",
    "train_files = [\"body_acc_x_train.txt\", \"body_acc_y_train.txt\", \"body_acc_z_train.txt\", \n",
    "        \"body_gyro_x_train.txt\", \"body_gyro_y_train.txt\", \"body_gyro_z_train.txt\", \n",
    "        \"body_acc_x_train.txt\", \"body_acc_y_train.txt\", \"body_acc_z_train.txt\"]\n",
    "\n",
    "train_df = []\n",
    "train_y = pd.read_csv(\"D:/GitHub/ece209as_project/data/UCI_HAR_Dataset/train/y_train.txt\", header=None)\n",
    "\n",
    "test_directory = \"D:/GitHub/ece209as_project/data/UCI_HAR_Dataset/test/Inertial_Signals/\"\n",
    "\n",
    "test_files = [\"body_acc_x_test.txt\", \"body_acc_y_test.txt\", \"body_acc_z_test.txt\", \n",
    "        \"body_gyro_x_test.txt\", \"body_gyro_y_test.txt\", \"body_gyro_z_test.txt\", \n",
    "        \"body_acc_x_test.txt\", \"body_acc_y_test.txt\", \"body_acc_z_test.txt\"]\n",
    "\n",
    "test_df = []\n",
    "test_y = pd.read_csv(\"D:/GitHub/ece209as_project/data/UCI_HAR_Dataset/test/y_test.txt\", header=None)\n",
    "\n",
    "\n",
    "for train_file in train_files:\n",
    "    df = pd.read_csv(train_directory+train_file, delim_whitespace=True, header=None)\n",
    "    train_df.append(np.array(df))\n",
    "\n",
    "for test_file in test_files:\n",
    "    df = pd.read_csv(test_directory+test_file, delim_whitespace=True, header=None)\n",
    "    test_df.append(np.array(df))\n",
    "\n",
    "train_X = np.array(train_df).reshape([len(train_y), 128, 9])\n",
    "test_X = np.array(test_df).reshape([len(test_y), 128, 9])"
   ]
  },
  {
   "cell_type": "code",
   "execution_count": 10,
   "metadata": {},
   "outputs": [
    {
     "name": "stdout",
     "output_type": "stream",
     "text": [
      "Model initialized successfully. Number of the trainable parameters: 1332038\n",
      "epoch 0: training loss 0.2167\n",
      "epoch 1: training loss 0.1207\n",
      "epoch 2: training loss 0.1029\n",
      "epoch 3: training loss 0.0908\n",
      "epoch 4: training loss 0.0796\n",
      "epoch 5: training loss 0.0753\n",
      "epoch 6: training loss 0.0688\n",
      "epoch 7: training loss 0.0643\n",
      "epoch 8: training loss 0.0625\n",
      "epoch 9: training loss 0.0608\n",
      "Finished training.\n"
     ]
    }
   ],
   "source": [
    "X_intact, X, missing_mask, indicating_mask = mcar(train_X, 0.1) # hold out 10% observed values as ground truth\n",
    "X = masked_fill(X, 1 - missing_mask, np.nan)\n",
    "# Model training. This is PyPOTS showtime. 💪\n",
    "saits = SAITS(n_steps=128, n_features=9, n_layers=2, d_model=256, d_inner=128, n_head=4, d_k=64, d_v=64, dropout=0.1, epochs=10)\n",
    "saits.fit(X)  # train the model. Here I use the whole dataset as the training set, because ground truth is not visible to the model.\n",
    "imputation = saits.impute(X)  # impute the originally-missing values and artificially-missing values\n",
    "mae = cal_mae(imputation, X_intact, indicating_mask)  # calculate mean absolute error on the ground truth (artificially-missing values)"
   ]
  }
 ],
 "metadata": {
  "interpreter": {
   "hash": "85eab4bc6c6c5de8d8c9b73424489217eb3ac6fe3bc76caf6b2eb1d4f520884f"
  },
  "kernelspec": {
   "display_name": "Python 3.9.12 ('tf')",
   "language": "python",
   "name": "python3"
  },
  "language_info": {
   "codemirror_mode": {
    "name": "ipython",
    "version": 3
   },
   "file_extension": ".py",
   "mimetype": "text/x-python",
   "name": "python",
   "nbconvert_exporter": "python",
   "pygments_lexer": "ipython3",
   "version": "3.9.12"
  },
  "orig_nbformat": 4
 },
 "nbformat": 4,
 "nbformat_minor": 2
}
