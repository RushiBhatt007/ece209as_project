{
 "cells": [
  {
   "cell_type": "code",
   "execution_count": 1,
   "metadata": {},
   "outputs": [],
   "source": [
    "import simulate\n",
    "import baseline\n",
    "import dataload\n",
    "import numpy as np\n",
    "import pandas as pd\n",
    "from sklearn.preprocessing import StandardScaler\n",
    "#import pypots\n",
    "from pypots.data import load_specific_dataset, mcar, masked_fill\n",
    "from pypots.imputation import SAITS, BRITS\n",
    "from pypots.utils.metrics import cal_mae, cal_rmse, cal_mre"
   ]
  },
  {
   "cell_type": "markdown",
   "metadata": {},
   "source": [
    "# UCI HAR"
   ]
  },
  {
   "cell_type": "code",
   "execution_count": 2,
   "metadata": {},
   "outputs": [],
   "source": [
    "dict = dataload.uci()\n",
    "X = dict[\"X\"]\n",
    "y = dict[\"y\"]"
   ]
  },
  {
   "cell_type": "code",
   "execution_count": 3,
   "metadata": {},
   "outputs": [],
   "source": [
    "# MCAR\n",
    "dict_MCAR = simulate.simulate_nan(X, 0.1, \"MCAR\")\n",
    "X_intact_MCAR = dict_MCAR['X_init']\n",
    "X_missing_MCAR = dict_MCAR['X_incomp']\n",
    "X_mask_MCAR = dict_MCAR['mask']\n"
   ]
  },
  {
   "cell_type": "code",
   "execution_count": 4,
   "metadata": {},
   "outputs": [],
   "source": [
    "import importlib\n",
    "import simulate #import the module here, so that it can be reloaded.\n",
    "importlib.reload(simulate)\n",
    "\n",
    "\n",
    "# MAR - logistic\n",
    "dict_MAR = simulate.simulate_nan(X, 0.1, \"MAR\")\n",
    "X_intact_MAR = dict_MAR['X_init']\n",
    "X_missing_MAR = dict_MAR['X_incomp']\n",
    "X_mask_MAR = dict_MAR['mask']"
   ]
  },
  {
   "cell_type": "code",
   "execution_count": 5,
   "metadata": {},
   "outputs": [],
   "source": [
    "import simulate #import the module here, so that it can be reloaded.\n",
    "importlib.reload(simulate)\n",
    "\n",
    "# MNAR - logistic\n",
    "dict_MAR = simulate.simulate_nan(X, 0.1, \"MNAR\", opt=\"logistic\")\n",
    "X_intact_MNAR = dict_MAR['X_init']\n",
    "X_missing_MNAR = dict_MAR['X_incomp']\n",
    "X_mask_MNAR = dict_MAR['mask']\n",
    "\n",
    "X_intact = [X_intact_MCAR, X_intact_MAR, X_intact_MNAR]\n",
    "X_missing = [X_missing_MCAR, X_missing_MAR, X_missing_MNAR]\n",
    "X_mask = [X_mask_MCAR, X_mask_MAR, X_mask_MNAR]\n",
    "missingness = [\"MCAR\", \"MAR\", \"MNAR\"]"
   ]
  },
  {
   "cell_type": "code",
   "execution_count": 6,
   "metadata": {},
   "outputs": [
    {
     "name": "stdout",
     "output_type": "stream",
     "text": [
      "(array([0., 1.]), array([10677991,  1186457], dtype=int64))\n",
      "(array([0., 1.]), array([10677841,  1186607], dtype=int64))\n",
      "(array([0., 1.]), array([10679971,  1184477], dtype=int64))\n"
     ]
    }
   ],
   "source": [
    "print(np.unique(X_mask_MAR, return_counts=True))\n",
    "print(np.unique(X_mask_MCAR, return_counts=True))\n",
    "print(np.unique(X_mask_MNAR, return_counts=True))"
   ]
  },
  {
   "cell_type": "code",
   "execution_count": 7,
   "metadata": {},
   "outputs": [],
   "source": [
    "result_uci_imputation = []"
   ]
  },
  {
   "cell_type": "code",
   "execution_count": 8,
   "metadata": {},
   "outputs": [],
   "source": [
    "# Zero-filling imputation\n",
    "res = []\n",
    "for i in range(3):\n",
    "    X_zero_imputed = baseline.zero_filling_imputation(X_missing[i])\n",
    "    res.append(cal_mae(X_intact[i], X_zero_imputed, X_mask[i]))\n",
    "    res.append(cal_rmse(X_intact[i], X_zero_imputed, X_mask[i]))\n",
    "    res.append(cal_mre(X_intact[i], X_zero_imputed, X_mask[i]))\n",
    "\n",
    "result_uci_imputation.append(res)"
   ]
  },
  {
   "cell_type": "code",
   "execution_count": 9,
   "metadata": {},
   "outputs": [],
   "source": [
    "# Mean imputation\n",
    "res = []\n",
    "\n",
    "for i in range(3):\n",
    "    X_mean_imputed = baseline.mean_imputation(X_missing[i])\n",
    "    res.append(cal_mae(X_intact[i], X_mean_imputed, X_mask[i]))\n",
    "    res.append(cal_rmse(X_intact[i], X_mean_imputed, X_mask[i]))\n",
    "    res.append(cal_mre(X_intact[i], X_mean_imputed, X_mask[i]))\n",
    "\n",
    "result_uci_imputation.append(res)"
   ]
  },
  {
   "cell_type": "code",
   "execution_count": 10,
   "metadata": {},
   "outputs": [],
   "source": [
    "# Median imputation\n",
    "res = []\n",
    "\n",
    "for i in range(3):\n",
    "    X_median_imputed = baseline.median_imputation(X_missing[i])\n",
    "    res.append(cal_mae(X_intact[i], X_median_imputed, X_mask[i]))\n",
    "    res.append(cal_rmse(X_intact[i], X_median_imputed, X_mask[i]))\n",
    "    res.append(cal_mre(X_intact[i], X_median_imputed, X_mask[i]))\n",
    "\n",
    "result_uci_imputation.append(res)"
   ]
  },
  {
   "cell_type": "code",
   "execution_count": 11,
   "metadata": {},
   "outputs": [
    {
     "name": "stdout",
     "output_type": "stream",
     "text": [
      "Model initialized successfully. Number of the trainable parameters: 926\n",
      "epoch 0: training loss 0.3934\n",
      "epoch 1: training loss 0.1853\n",
      "epoch 2: training loss 0.1351\n",
      "Finished training.\n",
      "Model initialized successfully. Number of the trainable parameters: 926\n",
      "epoch 0: training loss 0.3894\n",
      "epoch 1: training loss 0.1776\n",
      "epoch 2: training loss 0.1284\n",
      "Finished training.\n",
      "Model initialized successfully. Number of the trainable parameters: 926\n",
      "epoch 0: training loss 0.4458\n",
      "epoch 1: training loss 0.1935\n",
      "epoch 2: training loss 0.1342\n",
      "Finished training.\n"
     ]
    }
   ],
   "source": [
    "# BRITS\n",
    "\n",
    "res = []\n",
    "\n",
    "for i in range(3):\n",
    "    brits = BRITS(n_steps=128, n_features=9,rnn_hidden_size=1, epochs=3)\n",
    "    brits.fit(X_missing[i])\n",
    "    imputation = brits.impute(X_missing[i])\n",
    "    res.append(cal_mae(imputation, X_intact[i], X_mask[i]))\n",
    "    res.append(cal_rmse(imputation, X_intact[i], X_mask[i]))\n",
    "    res.append(cal_mre(imputation, X_intact[i], X_mask[i]))\n",
    "\n",
    "result_uci_imputation.append(res)"
   ]
  },
  {
   "cell_type": "code",
   "execution_count": 14,
   "metadata": {},
   "outputs": [
    {
     "name": "stdout",
     "output_type": "stream",
     "text": [
      "Model initialized successfully. Number of the trainable parameters: 1332038\n",
      "epoch 0: training loss 0.1932\n",
      "epoch 1: training loss 0.1259\n",
      "epoch 2: training loss 0.1133\n",
      "epoch 3: training loss 0.1066\n",
      "epoch 4: training loss 0.1024\n",
      "epoch 5: training loss 0.0994\n",
      "epoch 6: training loss 0.0970\n",
      "epoch 7: training loss 0.0954\n",
      "epoch 8: training loss 0.0939\n",
      "epoch 9: training loss 0.0926\n",
      "Finished training.\n",
      "Model initialized successfully. Number of the trainable parameters: 1332038\n",
      "epoch 0: training loss 0.2071\n",
      "epoch 1: training loss 0.1266\n",
      "epoch 2: training loss 0.1130\n",
      "epoch 3: training loss 0.1064\n",
      "epoch 4: training loss 0.1024\n",
      "epoch 5: training loss 0.0992\n",
      "epoch 6: training loss 0.0969\n",
      "epoch 7: training loss 0.0951\n",
      "epoch 8: training loss 0.0937\n",
      "epoch 9: training loss 0.0927\n",
      "Finished training.\n",
      "Model initialized successfully. Number of the trainable parameters: 1332038\n",
      "epoch 0: training loss 0.1914\n",
      "epoch 1: training loss 0.0976\n",
      "epoch 2: training loss 0.0786\n",
      "epoch 3: training loss 0.0726\n",
      "epoch 4: training loss 0.0656\n",
      "epoch 5: training loss 0.0605\n",
      "epoch 6: training loss 0.0571\n",
      "epoch 7: training loss 0.0547\n",
      "epoch 8: training loss 0.0525\n",
      "epoch 9: training loss 0.0513\n",
      "Finished training.\n"
     ]
    }
   ],
   "source": [
    "# SAITS\n",
    "\n",
    "res = []\n",
    "\n",
    "for i in range(3):\n",
    "    saits = SAITS(n_steps=128, n_features=9, n_layers=2, d_model=256, d_inner=128, n_head=4, d_k=64, d_v=64, dropout=0.2, epochs=10)\n",
    "    saits.fit(X_missing[i])\n",
    "    imputation = saits.impute(X_missing[i])\n",
    "    res.append(cal_mae(imputation, X_intact[i], X_mask[i]))\n",
    "    res.append(cal_rmse(imputation, X_intact[i], X_mask[i]))\n",
    "    res.append(cal_mre(imputation, X_intact[i], X_mask[i]))\n",
    "\n",
    "result_uci_imputation.append(res)"
   ]
  },
  {
   "cell_type": "code",
   "execution_count": 15,
   "metadata": {},
   "outputs": [],
   "source": [
    "errors = [\"mae\", \"rmse\", \"mre\"]\n",
    "cols = []\n",
    "\n",
    "for i in missingness:\n",
    "    for j in errors:\n",
    "        cols.append(i+\" \"+j)\n",
    "\n",
    "methods = [\"zero-filling imputation\", \"mean imputation\", \"median imputation\", \"BRITS\", \"SAITS\"]\n",
    "result_uci_imputation = pd.DataFrame(result_uci_imputation, columns = cols, index=methods)"
   ]
  },
  {
   "cell_type": "code",
   "execution_count": 16,
   "metadata": {},
   "outputs": [
    {
     "data": {
      "text/html": [
       "<div>\n",
       "<style scoped>\n",
       "    .dataframe tbody tr th:only-of-type {\n",
       "        vertical-align: middle;\n",
       "    }\n",
       "\n",
       "    .dataframe tbody tr th {\n",
       "        vertical-align: top;\n",
       "    }\n",
       "\n",
       "    .dataframe thead th {\n",
       "        text-align: right;\n",
       "    }\n",
       "</style>\n",
       "<table border=\"1\" class=\"dataframe\">\n",
       "  <thead>\n",
       "    <tr style=\"text-align: right;\">\n",
       "      <th></th>\n",
       "      <th>MCAR mae</th>\n",
       "      <th>MCAR rmse</th>\n",
       "      <th>MCAR mre</th>\n",
       "      <th>MAR mae</th>\n",
       "      <th>MAR rmse</th>\n",
       "      <th>MAR mre</th>\n",
       "      <th>MNAR mae</th>\n",
       "      <th>MNAR rmse</th>\n",
       "      <th>MNAR mre</th>\n",
       "    </tr>\n",
       "  </thead>\n",
       "  <tbody>\n",
       "    <tr>\n",
       "      <th>zero-filling imputation</th>\n",
       "      <td>0.114760</td>\n",
       "      <td>0.233358</td>\n",
       "      <td>1.361754e+14</td>\n",
       "      <td>0.114956</td>\n",
       "      <td>0.233186</td>\n",
       "      <td>1.363906e+14</td>\n",
       "      <td>0.115120</td>\n",
       "      <td>0.233995</td>\n",
       "      <td>1.363567e+14</td>\n",
       "    </tr>\n",
       "    <tr>\n",
       "      <th>mean imputation</th>\n",
       "      <td>0.115665</td>\n",
       "      <td>0.232491</td>\n",
       "      <td>7.882437e+00</td>\n",
       "      <td>0.115825</td>\n",
       "      <td>0.232272</td>\n",
       "      <td>7.963740e+00</td>\n",
       "      <td>0.116015</td>\n",
       "      <td>0.233281</td>\n",
       "      <td>7.879241e+00</td>\n",
       "    </tr>\n",
       "    <tr>\n",
       "      <th>median imputation</th>\n",
       "      <td>0.113521</td>\n",
       "      <td>0.234953</td>\n",
       "      <td>5.544886e+00</td>\n",
       "      <td>0.113671</td>\n",
       "      <td>0.234654</td>\n",
       "      <td>5.504210e+00</td>\n",
       "      <td>0.113984</td>\n",
       "      <td>0.235801</td>\n",
       "      <td>5.471261e+00</td>\n",
       "    </tr>\n",
       "    <tr>\n",
       "      <th>BRITS</th>\n",
       "      <td>0.037630</td>\n",
       "      <td>0.095399</td>\n",
       "      <td>3.279052e-01</td>\n",
       "      <td>0.039161</td>\n",
       "      <td>0.100336</td>\n",
       "      <td>3.406561e-01</td>\n",
       "      <td>0.039876</td>\n",
       "      <td>0.098917</td>\n",
       "      <td>3.463862e-01</td>\n",
       "    </tr>\n",
       "    <tr>\n",
       "      <th>SAITS</th>\n",
       "      <td>0.036589</td>\n",
       "      <td>0.090022</td>\n",
       "      <td>3.188264e-01</td>\n",
       "      <td>0.038674</td>\n",
       "      <td>0.096277</td>\n",
       "      <td>3.364215e-01</td>\n",
       "      <td>0.034049</td>\n",
       "      <td>0.087465</td>\n",
       "      <td>2.957710e-01</td>\n",
       "    </tr>\n",
       "  </tbody>\n",
       "</table>\n",
       "</div>"
      ],
      "text/plain": [
       "                         MCAR mae  MCAR rmse      MCAR mre   MAR mae  \\\n",
       "zero-filling imputation  0.114760   0.233358  1.361754e+14  0.114956   \n",
       "mean imputation          0.115665   0.232491  7.882437e+00  0.115825   \n",
       "median imputation        0.113521   0.234953  5.544886e+00  0.113671   \n",
       "BRITS                    0.037630   0.095399  3.279052e-01  0.039161   \n",
       "SAITS                    0.036589   0.090022  3.188264e-01  0.038674   \n",
       "\n",
       "                         MAR rmse       MAR mre  MNAR mae  MNAR rmse  \\\n",
       "zero-filling imputation  0.233186  1.363906e+14  0.115120   0.233995   \n",
       "mean imputation          0.232272  7.963740e+00  0.116015   0.233281   \n",
       "median imputation        0.234654  5.504210e+00  0.113984   0.235801   \n",
       "BRITS                    0.100336  3.406561e-01  0.039876   0.098917   \n",
       "SAITS                    0.096277  3.364215e-01  0.034049   0.087465   \n",
       "\n",
       "                             MNAR mre  \n",
       "zero-filling imputation  1.363567e+14  \n",
       "mean imputation          7.879241e+00  \n",
       "median imputation        5.471261e+00  \n",
       "BRITS                    3.463862e-01  \n",
       "SAITS                    2.957710e-01  "
      ]
     },
     "execution_count": 16,
     "metadata": {},
     "output_type": "execute_result"
    }
   ],
   "source": [
    "result_uci_imputation"
   ]
  }
 ],
 "metadata": {
  "interpreter": {
   "hash": "85eab4bc6c6c5de8d8c9b73424489217eb3ac6fe3bc76caf6b2eb1d4f520884f"
  },
  "kernelspec": {
   "display_name": "Python 3.9.12 ('tf')",
   "language": "python",
   "name": "python3"
  },
  "language_info": {
   "codemirror_mode": {
    "name": "ipython",
    "version": 3
   },
   "file_extension": ".py",
   "mimetype": "text/x-python",
   "name": "python",
   "nbconvert_exporter": "python",
   "pygments_lexer": "ipython3",
   "version": "3.9.12"
  },
  "orig_nbformat": 4
 },
 "nbformat": 4,
 "nbformat_minor": 2
}
