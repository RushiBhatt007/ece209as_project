{
 "cells": [
  {
   "cell_type": "code",
   "execution_count": 27,
   "metadata": {},
   "outputs": [],
   "source": [
    "import simulate\n",
    "import baseline\n",
    "import dataload\n",
    "import numpy as np\n",
    "import pandas as pd\n",
    "from sklearn.preprocessing import StandardScaler\n",
    "#import pypots\n",
    "from pypots.data import load_specific_dataset, mcar, masked_fill\n",
    "from pypots.imputation import SAITS, BRITS\n",
    "from pypots.utils.metrics import cal_mae, cal_rmse, cal_mre"
   ]
  },
  {
   "cell_type": "markdown",
   "metadata": {},
   "source": [
    "# UCI HAR"
   ]
  },
  {
   "cell_type": "code",
   "execution_count": 15,
   "metadata": {},
   "outputs": [],
   "source": [
    "dict = dataload.uci()\n",
    "X = dict[\"X\"]\n",
    "y = dict[\"y\"]"
   ]
  },
  {
   "cell_type": "code",
   "execution_count": 16,
   "metadata": {},
   "outputs": [],
   "source": [
    "# MCAR\n",
    "dict_MCAR = simulate.simulate_nan(X, 0.1, \"MCAR\")\n",
    "X_intact_MCAR = dict_MCAR['X_init']\n",
    "X_missing_MCAR = dict_MCAR['X_incomp']\n",
    "X_mask_MCAR = dict_MCAR['mask']\n",
    "\n",
    "# MAR - logistic\n",
    "dict_MAR = simulate.simulate_nan(X, 0.1, \"MAR\")\n",
    "X_intact_MAR = dict_MAR['X_init']\n",
    "X_missing_MAR = dict_MAR['X_incomp']\n",
    "X_mask_MAR = dict_MAR['mask']\n",
    "\n",
    "# MNAR - logistic\n",
    "dict_MAR = simulate.simulate_nan(X, 0.1, \"MNAR\", opt=\"logistic\")\n",
    "X_intact_MNAR = dict_MAR['X_init']\n",
    "X_missing_MNAR = dict_MAR['X_incomp']\n",
    "X_mask_MNAR = dict_MAR['mask']\n",
    "\n",
    "X_intact = [X_intact_MCAR, X_intact_MAR, X_intact_MNAR]\n",
    "X_missing = [X_missing_MCAR, X_missing_MAR, X_missing_MNAR]\n",
    "X_mask = [X_mask_MCAR, X_mask_MAR, X_mask_MNAR]\n",
    "missingness = [\"MCAR\", \"MAR\", \"MNAR\"]"
   ]
  },
  {
   "cell_type": "code",
   "execution_count": 17,
   "metadata": {},
   "outputs": [],
   "source": [
    "result_uci_imputation = []"
   ]
  },
  {
   "cell_type": "code",
   "execution_count": 18,
   "metadata": {},
   "outputs": [],
   "source": [
    "# Zero-filling imputation\n",
    "res = []\n",
    "for i in range(3):\n",
    "    X_zero_imputed = baseline.zero_filling_imputation(X_missing[i])\n",
    "    res.append(cal_mae(X_intact[i], X_zero_imputed, X_mask[i]))\n",
    "    res.append(cal_rmse(X_intact[i], X_zero_imputed, X_mask[i]))\n",
    "    res.append(cal_mre(X_intact[i], X_zero_imputed, X_mask[i]))\n",
    "\n",
    "result_uci_imputation.append(res)"
   ]
  },
  {
   "cell_type": "code",
   "execution_count": 19,
   "metadata": {},
   "outputs": [],
   "source": [
    "# Mean imputation\n",
    "res = []\n",
    "\n",
    "for i in range(3):\n",
    "    X_mean_imputed = baseline.mean_imputation(X_missing[i])\n",
    "    res.append(cal_mae(X_intact[i], X_mean_imputed, X_mask[i]))\n",
    "    res.append(cal_rmse(X_intact[i], X_mean_imputed, X_mask[i]))\n",
    "    res.append(cal_mre(X_intact[i], X_mean_imputed, X_mask[i]))\n",
    "\n",
    "result_uci_imputation.append(res)"
   ]
  },
  {
   "cell_type": "code",
   "execution_count": 20,
   "metadata": {},
   "outputs": [],
   "source": [
    "# Mean imputation\n",
    "res = []\n",
    "\n",
    "for i in range(3):\n",
    "    X_median_imputed = baseline.median_imputation(X_missing[i])\n",
    "    res.append(cal_mae(X_intact[i], X_median_imputed, X_mask[i]))\n",
    "    res.append(cal_rmse(X_intact[i], X_median_imputed, X_mask[i]))\n",
    "    res.append(cal_mre(X_intact[i], X_median_imputed, X_mask[i]))\n",
    "\n",
    "result_uci_imputation.append(res)"
   ]
  },
  {
   "cell_type": "code",
   "execution_count": 21,
   "metadata": {},
   "outputs": [
    {
     "name": "stdout",
     "output_type": "stream",
     "text": [
      "Model initialized successfully. Number of the trainable parameters: 46160\n",
      "epoch 0: training loss 0.2183\n",
      "Finished training.\n",
      "Model initialized successfully. Number of the trainable parameters: 46160\n",
      "epoch 0: training loss 0.2063\n",
      "Finished training.\n",
      "Model initialized successfully. Number of the trainable parameters: 46160\n",
      "epoch 0: training loss 0.2126\n",
      "Finished training.\n"
     ]
    }
   ],
   "source": [
    "# BRITS\n",
    "\n",
    "res = []\n",
    "\n",
    "for i in range(3):\n",
    "    brits = BRITS(n_steps=128, n_features=9,rnn_hidden_size=64, epochs=20)\n",
    "    brits.fit(X_missing[i])\n",
    "    imputation = brits.impute(X_missing[i])\n",
    "    res.append(cal_mae(imputation, X_intact[i], X_mask[i]))\n",
    "    res.append(cal_rmse(imputation, X_intact[i], X_mask[i]))\n",
    "    res.append(cal_mre(imputation, X_intact[i], X_mask[i]))\n",
    "\n",
    "result_uci_imputation.append(res)"
   ]
  },
  {
   "cell_type": "code",
   "execution_count": 22,
   "metadata": {},
   "outputs": [
    {
     "name": "stdout",
     "output_type": "stream",
     "text": [
      "Model initialized successfully. Number of the trainable parameters: 1332038\n",
      "epoch 0: training loss 0.1904\n",
      "Finished training.\n",
      "Model initialized successfully. Number of the trainable parameters: 1332038\n",
      "epoch 0: training loss 0.1878\n",
      "Finished training.\n",
      "Model initialized successfully. Number of the trainable parameters: 1332038\n",
      "epoch 0: training loss 0.1889\n",
      "Finished training.\n"
     ]
    }
   ],
   "source": [
    "# SAITS\n",
    "\n",
    "res = []\n",
    "\n",
    "for i in range(3):\n",
    "    saits = SAITS(n_steps=128, n_features=9, n_layers=2, d_model=256, d_inner=128, n_head=4, d_k=64, d_v=64, dropout=0.1, epochs=20)\n",
    "    saits.fit(X_missing[i])\n",
    "    imputation = saits.impute(X_missing[i])\n",
    "    res.append(cal_mae(imputation, X_intact[i], X_mask[i]))\n",
    "    res.append(cal_rmse(imputation, X_intact[i], X_mask[i]))\n",
    "    res.append(cal_mre(imputation, X_intact[i], X_mask[i]))\n",
    "\n",
    "result_uci_imputation.append(res)"
   ]
  },
  {
   "cell_type": "code",
   "execution_count": 23,
   "metadata": {},
   "outputs": [],
   "source": [
    "errors = [\"mae\", \"rmse\", \"mre\"]\n",
    "cols = []\n",
    "\n",
    "for i in missingness:\n",
    "    for j in errors:\n",
    "        cols.append(i+\" \"+j)\n",
    "\n",
    "methods = [\"zero-filling imputation\", \"mean imputation\", \"median imputation\", \"BRITS\", \"SAITS\"]\n",
    "result_uci_imputation = pd.DataFrame(result_uci_imputation, columns = cols, index=methods)"
   ]
  },
  {
   "cell_type": "code",
   "execution_count": 24,
   "metadata": {},
   "outputs": [
    {
     "data": {
      "text/html": [
       "<div>\n",
       "<style scoped>\n",
       "    .dataframe tbody tr th:only-of-type {\n",
       "        vertical-align: middle;\n",
       "    }\n",
       "\n",
       "    .dataframe tbody tr th {\n",
       "        vertical-align: top;\n",
       "    }\n",
       "\n",
       "    .dataframe thead th {\n",
       "        text-align: right;\n",
       "    }\n",
       "</style>\n",
       "<table border=\"1\" class=\"dataframe\">\n",
       "  <thead>\n",
       "    <tr style=\"text-align: right;\">\n",
       "      <th></th>\n",
       "      <th>MCAR mae</th>\n",
       "      <th>MCAR rmse</th>\n",
       "      <th>MCAR mre</th>\n",
       "      <th>MAR mae</th>\n",
       "      <th>MAR rmse</th>\n",
       "      <th>MAR mre</th>\n",
       "      <th>MNAR mae</th>\n",
       "      <th>MNAR rmse</th>\n",
       "      <th>MNAR mre</th>\n",
       "    </tr>\n",
       "  </thead>\n",
       "  <tbody>\n",
       "    <tr>\n",
       "      <th>zero-filling imputation</th>\n",
       "      <td>0.114922</td>\n",
       "      <td>0.233644</td>\n",
       "      <td>1.363221e+14</td>\n",
       "      <td>0.160199</td>\n",
       "      <td>0.302896</td>\n",
       "      <td>9.505433e+13</td>\n",
       "      <td>0.138555</td>\n",
       "      <td>0.272005</td>\n",
       "      <td>1.636499e+14</td>\n",
       "    </tr>\n",
       "    <tr>\n",
       "      <th>mean imputation</th>\n",
       "      <td>0.115836</td>\n",
       "      <td>0.232816</td>\n",
       "      <td>7.929661e+00</td>\n",
       "      <td>0.161394</td>\n",
       "      <td>0.302337</td>\n",
       "      <td>5.278239e+00</td>\n",
       "      <td>0.139708</td>\n",
       "      <td>0.271826</td>\n",
       "      <td>6.140836e+00</td>\n",
       "    </tr>\n",
       "    <tr>\n",
       "      <th>median imputation</th>\n",
       "      <td>0.113724</td>\n",
       "      <td>0.235252</td>\n",
       "      <td>5.567167e+00</td>\n",
       "      <td>0.158730</td>\n",
       "      <td>0.304681</td>\n",
       "      <td>4.375488e+00</td>\n",
       "      <td>0.137181</td>\n",
       "      <td>0.273990</td>\n",
       "      <td>4.827537e+00</td>\n",
       "    </tr>\n",
       "    <tr>\n",
       "      <th>BRITS</th>\n",
       "      <td>0.057458</td>\n",
       "      <td>0.127887</td>\n",
       "      <td>4.999711e-01</td>\n",
       "      <td>0.131543</td>\n",
       "      <td>0.257794</td>\n",
       "      <td>8.211231e-01</td>\n",
       "      <td>0.115911</td>\n",
       "      <td>0.235240</td>\n",
       "      <td>8.365673e-01</td>\n",
       "    </tr>\n",
       "    <tr>\n",
       "      <th>SAITS</th>\n",
       "      <td>0.054188</td>\n",
       "      <td>0.115000</td>\n",
       "      <td>4.715210e-01</td>\n",
       "      <td>0.176034</td>\n",
       "      <td>0.308199</td>\n",
       "      <td>1.098847e+00</td>\n",
       "      <td>0.148223</td>\n",
       "      <td>0.273292</td>\n",
       "      <td>1.069775e+00</td>\n",
       "    </tr>\n",
       "  </tbody>\n",
       "</table>\n",
       "</div>"
      ],
      "text/plain": [
       "                         MCAR mae  MCAR rmse      MCAR mre   MAR mae  \\\n",
       "zero-filling imputation  0.114922   0.233644  1.363221e+14  0.160199   \n",
       "mean imputation          0.115836   0.232816  7.929661e+00  0.161394   \n",
       "median imputation        0.113724   0.235252  5.567167e+00  0.158730   \n",
       "BRITS                    0.057458   0.127887  4.999711e-01  0.131543   \n",
       "SAITS                    0.054188   0.115000  4.715210e-01  0.176034   \n",
       "\n",
       "                         MAR rmse       MAR mre  MNAR mae  MNAR rmse  \\\n",
       "zero-filling imputation  0.302896  9.505433e+13  0.138555   0.272005   \n",
       "mean imputation          0.302337  5.278239e+00  0.139708   0.271826   \n",
       "median imputation        0.304681  4.375488e+00  0.137181   0.273990   \n",
       "BRITS                    0.257794  8.211231e-01  0.115911   0.235240   \n",
       "SAITS                    0.308199  1.098847e+00  0.148223   0.273292   \n",
       "\n",
       "                             MNAR mre  \n",
       "zero-filling imputation  1.636499e+14  \n",
       "mean imputation          6.140836e+00  \n",
       "median imputation        4.827537e+00  \n",
       "BRITS                    8.365673e-01  \n",
       "SAITS                    1.069775e+00  "
      ]
     },
     "execution_count": 24,
     "metadata": {},
     "output_type": "execute_result"
    }
   ],
   "source": [
    "result_uci_imputation"
   ]
  }
 ],
 "metadata": {
  "interpreter": {
   "hash": "85eab4bc6c6c5de8d8c9b73424489217eb3ac6fe3bc76caf6b2eb1d4f520884f"
  },
  "kernelspec": {
   "display_name": "Python 3.9.12 ('tf')",
   "language": "python",
   "name": "python3"
  },
  "language_info": {
   "codemirror_mode": {
    "name": "ipython",
    "version": 3
   },
   "file_extension": ".py",
   "mimetype": "text/x-python",
   "name": "python",
   "nbconvert_exporter": "python",
   "pygments_lexer": "ipython3",
   "version": "3.9.12"
  },
  "orig_nbformat": 4
 },
 "nbformat": 4,
 "nbformat_minor": 2
}
